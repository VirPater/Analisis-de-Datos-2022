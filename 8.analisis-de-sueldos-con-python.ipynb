{
 "cells": [
  {
   "cell_type": "markdown",
   "id": "fd3fa483-c0db-463e-94d7-99b33e0f342e",
   "metadata": {
    "id": "fd3fa483-c0db-463e-94d7-99b33e0f342e"
   },
   "source": [
    "# Análisis de sueldos con Python"
   ]
  },
  {
   "cell_type": "markdown",
   "id": "ade5a290-3d22-4151-bedf-8a51fcac2300",
   "metadata": {
    "id": "ade5a290-3d22-4151-bedf-8a51fcac2300"
   },
   "source": [
    "## Data\n",
    "\n",
    "* [2021.2 - sysarmy - Encuesta de remuneración salarial Argentina\n",
    "](https://docs.google.com/spreadsheets/d/1-ZRznwS4TK74o90aOiCKS5SiXxUQ2buN1wxZIMHQmzQ/edit#gid=557755710) \n",
    "* [2021.2 - sysarmy - Encuesta de remuneración salarial Latam\n",
    "](https://docs.google.com/spreadsheets/d/1BkBNt1MHVS7DeIlpgmK9l6krtSQ5t_olRhlcyxMeKy0/edit#gid=557755710)"
   ]
  },
  {
   "cell_type": "markdown",
   "id": "684accd7-8da2-41d5-985b-caa44133b114",
   "metadata": {
    "id": "684accd7-8da2-41d5-985b-caa44133b114"
   },
   "source": [
    "1. Descargar, leer y unir en una sola estructura de datos. ¿Qué estructura elegiste y por qué?"
   ]
  },
  {
   "cell_type": "code",
   "execution_count": null,
   "id": "cfa3ef02-5aba-4793-8a27-a1fdc4fb7111",
   "metadata": {
    "id": "cfa3ef02-5aba-4793-8a27-a1fdc4fb7111"
   },
   "outputs": [],
   "source": [
    "# En este primer punto se traerán los datos de los dos archivos para trabajar.\n",
    "# Se ordenarán de tal forma que simplifique el trabajo posterior, así como la normalizacion de sus valores."
   ]
  },
  {
   "cell_type": "code",
   "execution_count": null,
   "id": "0fa1a362",
   "metadata": {},
   "outputs": [],
   "source": [
    "# A continuación la importación de la encuesta de Latam y la definición de su estructura que será listas de diccionarios."
   ]
  },
  {
   "cell_type": "code",
   "execution_count": 40,
   "id": "0588da94",
   "metadata": {},
   "outputs": [],
   "source": [
    "import csv\n",
    "\n",
    "list_keys = []\n",
    "list_values = []\n",
    "list_dict_info_latam = []                                     # acá se guarda la info de los dict de Latam\n",
    "\n",
    "with open('2021.2 - sysarmy - Encuesta de remuneración salarial Latam - Latam.tsv', encoding=\"utf8\") as s_latam:\n",
    "    latam_reader = csv.reader(s_latam, delimiter='\\t')\n",
    "    for index, line in enumerate(latam_reader):\n",
    "        #if index > 9:\n",
    "            #print(f'{latam_line}')\n",
    "        # Líneas 0 a 9 vacías\n",
    "        # Líneas 10  -> preguntas\n",
    "        # Líneas 11+ -> respuestas\n",
    "        if index == 10:\n",
    "            list_keys = line\n",
    "            list_keys[0] = 'País'                              # La pregunta Estoy trabajando en se pasa a llamar País\n",
    "            dict_base = dict()\n",
    "            for key in list_keys:\n",
    "                dict_base[key] = ''\n",
    "            #print(line)\n",
    "        elif index >= 11:\n",
    "            list_values = line\n",
    "            dict_info = dict_base.copy()\n",
    "            for i, key in enumerate(dict_info.keys()):\n",
    "                dict_info[key] = list_values[i]\n",
    "            #print(dict_info)\n",
    "            dict_info['Ciudad'] = dict_info[dict_info['País']]  # Se agrega una pregunta Ciudad con respuesta variable\n",
    "            \n",
    "            for i, key in enumerate(list_keys[1:19]):           # Para borrar las columnas de los países con sus regiones\n",
    "                dict_info.pop(key)\n",
    "            #print(dict_info)\n",
    "            \n",
    "            list_dict_info_latam.append(dict_info)\n",
    "        \n",
    "\n"
   ]
  },
  {
   "cell_type": "code",
   "execution_count": null,
   "id": "690ff0b6",
   "metadata": {},
   "outputs": [],
   "source": [
    "# A continuación la importación de la encuesta de Argentina y la definición de la estructura listas de diccionario."
   ]
  },
  {
   "cell_type": "code",
   "execution_count": 39,
   "id": "1df488e2",
   "metadata": {},
   "outputs": [],
   "source": [
    "import csv\n",
    "\n",
    "list_keys = []\n",
    "list_values = []\n",
    "list_dict_info_arg = []                           # Acá se guarda la info de los dict de Argentina\n",
    "\n",
    "with open('2021.2 - sysarmy - Encuesta de remuneración salarial Argentina - Argentina.tsv', encoding=\"utf8\") as s_arg:\n",
    "    arg_reader = csv.reader(s_arg, delimiter='\\t')\n",
    "    for index, line in enumerate(arg_reader):\n",
    "        #if index > 8:\n",
    "            #print(f'{arg_line}')\n",
    "        # Líneas 0 a 8 vacías\n",
    "        # Líneas 9   -> preguntas\n",
    "        # Líneas 10+ -> respuestas\n",
    "        if index == 9:\n",
    "            list_keys = line\n",
    "            list_keys[0] = 'Ciudad'                #La pregunta Dónde estás trabajando se pasa a llamar Ciudad\n",
    "            dict_base = dict()\n",
    "            for key in list_keys:\n",
    "                dict_base[key] = ''\n",
    "            #print(line)\n",
    "        elif index >= 10:\n",
    "            list_values = line\n",
    "            dict_info = dict_base.copy()\n",
    "            for i, key in enumerate(dict_info.keys()):\n",
    "                dict_info[key] = list_values[i]\n",
    "            #print(dict_info)\n",
    "            dict_info['País'] = 'Argentina'          # Se agrega una pregunta País con respuesta Argentina\n",
    "            \n",
    "            list_dict_info_arg.append(dict_info)\n",
    "                "
   ]
  },
  {
   "cell_type": "code",
   "execution_count": null,
   "id": "f4f2a159",
   "metadata": {},
   "outputs": [],
   "source": [
    "# A continuación seran unidas las dos estructuras en una sola. Argentina se agregará a Latam"
   ]
  },
  {
   "cell_type": "code",
   "execution_count": 8,
   "id": "751b7ec4",
   "metadata": {},
   "outputs": [],
   "source": [
    "list_all = list_dict_info_latam + list_dict_info_arg"
   ]
  },
  {
   "cell_type": "code",
   "execution_count": 13,
   "id": "6d7098e7",
   "metadata": {},
   "outputs": [
    {
     "name": "stdout",
     "output_type": "stream",
     "text": [
      "6869\n"
     ]
    }
   ],
   "source": [
    "print(len(list_all))"
   ]
  },
  {
   "cell_type": "code",
   "execution_count": 10,
   "id": "8a4edd4f",
   "metadata": {},
   "outputs": [
    {
     "name": "stdout",
     "output_type": "stream",
     "text": [
      "429\n"
     ]
    }
   ],
   "source": [
    "print(len(list_dict_info_latam))"
   ]
  },
  {
   "cell_type": "code",
   "execution_count": 11,
   "id": "15e3ae79",
   "metadata": {},
   "outputs": [
    {
     "name": "stdout",
     "output_type": "stream",
     "text": [
      "6440\n"
     ]
    }
   ],
   "source": [
    "print(len(list_dict_info_arg))"
   ]
  },
  {
   "cell_type": "code",
   "execution_count": null,
   "id": "a0b604bf",
   "metadata": {},
   "outputs": [],
   "source": [
    "# A continuación se normalizarán los elementos"
   ]
  },
  {
   "cell_type": "code",
   "execution_count": 61,
   "id": "d8c2b82f",
   "metadata": {},
   "outputs": [
    {
     "name": "stdout",
     "output_type": "stream",
     "text": [
      "{'País': 'Bolivia', 'Tipo de contrato': 'Full-Time', 'Salario mensual o retiro BRUTO (en tu moneda local)': '13500', 'Salario mensual o retiro NETO (en tu moneda local)': '12000', 'Pagos en dólares': '', '¿Cuál fue el último valor de dólar que tomaron?': '', '¿Qué tan conforme estás con tu sueldo?': '3', 'Cómo creés que está tu sueldo con respecto al último semestre': '3', 'Recibís algún tipo de bono': 'Menos de un sueldo', 'A qué está atado el bono': 'Performance de la compañía', '¿Tuviste ajustes por inflación durante 2021?': 'No', '¿De qué % fue el ajuste total?': '0', '¿En qué mes fue el último ajuste?': '0', 'Trabajo de': 'SysAdmin / DevOps / SRE', 'Años de experiencia': '6', 'Años en la empresa actual': '14', 'Años en el puesto actual': '6', '¿Gente a cargo?': '2', 'Plataformas': 'Amazon Web Services, Azure, Docker, Linux, OpenStack', 'Lenguajes de programación o tecnologías.': 'Bash/Shell', 'Frameworks, herramientas y librerías': 'Ninguno de los anteriores', 'Bases de datos': 'Amazon RDS/Aurora, MongoDB, MySQL, PostgreSQL', 'QA / Testing': 'Ninguna de las anteriores', 'IDEs': 'Ninguno de los anteriores', 'Cantidad de personas en tu organización': '501-1000', '': '', 'Actividad principal': 'Servicios / Consultoría de Software / Digital', '¿La recomendás como un buen lugar para trabajar?': '7', '¿Cómo calificás las políticas de diversidad e inclusión?': '5', 'Beneficios extra': 'Capacitaciones y/o cursos, Descuentos varios (Mercado Pago, Clarín 365, Club La Nación, etc), Horarios flexibles', '¿Salir o seguir contestando?': 'Quiero responder más preguntas', 'Nivel de estudios alcanzado': 'Terciario', 'Estado': 'Completado', 'Carrera': 'Analista de Sistemas', 'Universidad': 'catec', 'Realizaste cursos de especialización': 'Sí, los pagó un empleador', '¿Contribuís a proyectos open source?': 'No', '¿Programás como hobbie?': 'No', '¿Tenés guardias?': 'Quiero responder más preguntas', 'Cuánto cobrás por guardia': 'No', '¿Porcentaje, bruto o neto?': '0', '¿Sufriste o presenciaste situaciones de violencia laboral?': 'Porcentaje de mi sueldo', '¿Tenés algún tipo de discapacidad?': 'Quiero responder más preguntas', '¿Sentís que esto te dificultó el conseguir trabajo?': 'Jamás', '¿Cómo venís llevando la pandemia?': '', '¿Tenés hijos/as menores de edad?': 'No', '¿Con cuántas personas estás conviviendo?': 'Quiero responder más preguntas', '¿Con quiénes convivís?': '2', '¿Tenés un espacio dedicado para el trabajo?': '1', '¿Tenés que compartir tu equipo de trabajo con alguien?': '1', '¿Qué tipo de cuarentena hiciste / estás haciendo?': 'Hijos/as (tiempo completo)', '¿Cambió tu situación laboral a raíz de la pandemia?': 'No', '¿Qué tanto sentís que te está apoyando tu empresa/organización en esta situación?': 'No', '¿Cómo se vio afectada tu empresa/organización?': '3', '¿Instauraron algún beneficio nuevo?': 'No', 'Tengo': '7', 'Me identifico': 'No la afectó, Se vio beneficiada', 'Ciudad': 'Cochabamba'}\n",
      "---------------------------------------------------------------------------------\n",
      "{'País': 'Bolivia', 'Tipo de contrato': 'Full-Time', 'Salario mensual o retiro BRUTO (en tu moneda local)': '13500', 'Salario mensual o retiro NETO (en tu moneda local)': '12000', 'Pagos en dólares': '', '¿Cuál fue el último valor de dólar que tomaron?': '', '¿Qué tan conforme estás con tu sueldo?': '3', 'Cómo creés que está tu sueldo con respecto al último semestre': '3', 'Recibís algún tipo de bono': 'Menos de un sueldo', 'A qué está atado el bono': 'Performance de la compañía', '¿Tuviste ajustes por inflación durante 2021?': 'No', '¿De qué % fue el ajuste total?': '0', '¿En qué mes fue el último ajuste?': '0', 'Trabajo de': 'SysAdmin / DevOps / SRE', 'Años de experiencia': '6', 'Años en la empresa actual': '14', 'Años en el puesto actual': '6', '¿Gente a cargo?': '2', 'Plataformas': 'Amazon Web Services, Azure, Docker, Linux, OpenStack', 'Lenguajes de programación o tecnologías.': 'Bash/Shell', 'Frameworks, herramientas y librerías': 'Ninguno de los anteriores', 'Bases de datos': 'Amazon RDS/Aurora, MongoDB, MySQL, PostgreSQL', 'QA / Testing': 'Ninguna de las anteriores', 'IDEs': 'Ninguno de los anteriores', 'Cantidad de personas en tu organización': '501-1000', '': '', 'Actividad principal': 'Servicios / Consultoría de Software / Digital', '¿La recomendás como un buen lugar para trabajar?': '7', '¿Cómo calificás las políticas de diversidad e inclusión?': '5', 'Beneficios extra': 'Capacitaciones y/o cursos, Descuentos varios (Mercado Pago, Clarín 365, Club La Nación, etc), Horarios flexibles', '¿Salir o seguir contestando?': 'Quiero responder más preguntas', 'Nivel de estudios alcanzado': 'Terciario', 'Estado': 'Completado', 'Carrera': 'Analista de Sistemas', 'Universidad': 'catec', 'Realizaste cursos de especialización': 'Sí, los pagó un empleador', '¿Contribuís a proyectos open source?': 'No', '¿Programás como hobbie?': 'No', '¿Tenés guardias?': 'Quiero responder más preguntas', 'Cuánto cobrás por guardia': 'No', '¿Porcentaje, bruto o neto?': '0', '¿Sufriste o presenciaste situaciones de violencia laboral?': 'Porcentaje de mi sueldo', '¿Tenés algún tipo de discapacidad?': 'Quiero responder más preguntas', '¿Sentís que esto te dificultó el conseguir trabajo?': 'Jamás', '¿Cómo venís llevando la pandemia?': '', '¿Tenés hijos/as menores de edad?': 'No', '¿Con cuántas personas estás conviviendo?': 'Quiero responder más preguntas', '¿Con quiénes convivís?': '2', '¿Tenés un espacio dedicado para el trabajo?': '1', '¿Tenés que compartir tu equipo de trabajo con alguien?': '1', '¿Qué tipo de cuarentena hiciste / estás haciendo?': 'Hijos/as (tiempo completo)', '¿Cambió tu situación laboral a raíz de la pandemia?': 'No', '¿Qué tanto sentís que te está apoyando tu empresa/organización en esta situación?': 'No', '¿Cómo se vio afectada tu empresa/organización?': '3', '¿Instauraron algún beneficio nuevo?': 'No', 'Tengo': '7', 'Me identifico': 'No la afectó, Se vio beneficiada', 'Ciudad': 'Cochabamba'}\n"
     ]
    }
   ],
   "source": [
    "# Función de normalización:\n",
    "\n",
    "def normalize_record(dict_record):\n",
    "    dict_result = {}\n",
    "    for i, key in enumerate(dict_record.keys()):\n",
    "    \n",
    "        if key == 'Ciudad':\n",
    "            if dict_record[key] == '':\n",
    "                dict_result[key] = 'SIN CIUDAD'\n",
    "            else:\n",
    "                dict_result[key] = dict_record[key]\n",
    "        else:\n",
    "            dict_result[key] = dict_record[key]\n",
    "      \n",
    "    return dict_result\n",
    "\n",
    "list_all_normalized = []\n",
    "for i, key in enumerate(list_all):\n",
    "    list_all_normalized.append(normalize_record(list_all[i]))\n",
    "\n",
    "#Para verificar que se cambió bien el registro    \n",
    "print(list_all[0])\n",
    "print('---------------------------------------------------------------------------------')\n",
    "print(list_all_normalized[0])\n",
    "    "
   ]
  },
  {
   "cell_type": "code",
   "execution_count": null,
   "id": "8b72c71f",
   "metadata": {},
   "outputs": [],
   "source": [
    "#Definiciones de funciones a utilizar"
   ]
  },
  {
   "cell_type": "code",
   "execution_count": 68,
   "id": "a20c6bba",
   "metadata": {},
   "outputs": [],
   "source": [
    "# funcion que devuelve el porcentaje\n",
    "\n",
    "def percentage(total,quantity):\n",
    "    return round(quantity * 100  / total, 2)\n",
    "\n",
    "\n",
    "# funcion que calcula la paticpuacion ordenada desceiente de una clave\n",
    "\n",
    "def participation_per_key_DESC(list_to_analyze, key):\n",
    "    dict_result_Participacion_Region = {}\n",
    "\n",
    "    for record in list_to_analyze:\n",
    "        if record[key] in dict_result_Participacion_Region:\n",
    "            # Si la ciudad ya esta en el diccionario resultado incremento el contador\n",
    "            dict_result_Participacion_Region[record[key]] += 1 \n",
    "        else:\n",
    "            # Si la ciudad NO esta en el diccionario resultado inicializo el contador en 1\n",
    "            dict_result_Participacion_Region[record[key]] = 1 \n",
    "\n",
    "    register_total = len(list_all_normalized)\n",
    "\n",
    "    return sorted(dict_result_Participacion_Region.items(), key=lambda x: x[1], reverse=True)"
   ]
  },
  {
   "cell_type": "markdown",
   "id": "de5c8bec-41ea-4173-9b42-8bb3e7435d90",
   "metadata": {
    "id": "de5c8bec-41ea-4173-9b42-8bb3e7435d90"
   },
   "source": [
    "2. Printear porcentaje de participación por región, ordenado de mayor a menor. Ej: \n",
    "\n",
    "```\n",
    "- Ciudad Autónoma de Buenos Aires - 59.4%\n",
    "- Formosa - 0.04%\n",
    "```"
   ]
  },
  {
   "cell_type": "code",
   "execution_count": 69,
   "id": "ffc60133-8ed3-41ec-a745-904b74136a35",
   "metadata": {
    "id": "ffc60133-8ed3-41ec-a745-904b74136a35"
   },
   "outputs": [
    {
     "name": "stdout",
     "output_type": "stream",
     "text": [
      " - Ciudad Autónoma de Buenos Aires - 51.71%\n",
      " - Provincia de Buenos Aires - 10.1%\n",
      " - GBA - 9.2%\n",
      " - Córdoba - 7.8%\n",
      " - Santa Fe - 5.82%\n",
      " - Mendoza - 2.18%\n",
      " - Montevideo - 1.7%\n",
      " - Entre Ríos - 0.96%\n",
      " - Río Negro - 0.76%\n",
      " - Tucumán - 0.76%\n",
      " - Neuquén - 0.68%\n",
      " - Misiones - 0.61%\n",
      " - Santiago - 0.58%\n",
      " - Chaco - 0.57%\n",
      " - México DF - 0.47%\n",
      " - Lima - 0.45%\n",
      " - Salta - 0.42%\n",
      " - San Juan - 0.35%\n",
      " - Corrientes - 0.35%\n",
      " - Bogotá - 0.28%\n",
      " - Chubut - 0.28%\n",
      " - Jujuy - 0.28%\n",
      " - Medellín - 0.25%\n",
      " - Quito - 0.23%\n",
      " - La Rioja - 0.23%\n",
      " - San Luis - 0.17%\n",
      " - Tierra del Fuego - 0.17%\n",
      " - Santiago de Cali - 0.13%\n",
      " - Ciudad Guatemala - 0.12%\n",
      " - La Pampa - 0.12%\n",
      " - Santiago del Estero - 0.12%\n",
      " - Guadalajara - 0.1%\n",
      " - Guayaquil - 0.09%\n",
      " - Asunción - 0.09%\n",
      " - Santa Cruz de la Sierra - 0.07%\n",
      " - Santa Cruz - 0.07%\n",
      " - Caracas - 0.07%\n",
      " - Querétaro - 0.06%\n",
      " - Cochabamba - 0.04%\n",
      " - Valparaíso - 0.04%\n",
      " - Tunja - 0.04%\n",
      " - Manizales - 0.04%\n",
      " - San José - 0.04%\n",
      " - Loja - 0.04%\n",
      " - Monterrey - 0.04%\n",
      " - Veracruz - 0.04%\n",
      " - Puebla de Zaragoza - 0.04%\n",
      " - Valencia - 0.04%\n",
      " - Catamarca - 0.04%\n",
      " - La Paz - 0.03%\n",
      " - Pereira - 0.03%\n",
      " - Heredia - 0.03%\n",
      " - Cuenca - 0.03%\n",
      " - SIN CIUDAD - 0.03%\n",
      " - Pachuca - 0.03%\n",
      " - Oaxaca de Juárez - 0.03%\n",
      " - Villahermosa - 0.03%\n",
      " - Mérida - 0.03%\n",
      " - Morelia - 0.03%\n",
      " - Culiacán - 0.03%\n",
      " - Zapopan - 0.03%\n",
      " - Managua - 0.03%\n",
      " - Arequipa - 0.03%\n",
      " - Maldonado - 0.03%\n",
      " - Salto - 0.03%\n",
      " - Barquisimeto - 0.03%\n",
      " - San Cristóbal - 0.03%\n",
      " - Maipo - 0.01%\n",
      " - Biobío - 0.01%\n",
      " - Cachapoal - 0.01%\n",
      " - Talca - 0.01%\n",
      " - Valdivia - 0.01%\n",
      " - Cúcuta - 0.01%\n",
      " - Ibagué - 0.01%\n",
      " - Cartagena de Indias - 0.01%\n",
      " - Bucaramanga - 0.01%\n",
      " - Neiva - 0.01%\n",
      " - Montería - 0.01%\n",
      " - Arauca - 0.01%\n",
      " - Purral - 0.01%\n",
      " - Provincia de Ciudad de La Habana - 0.01%\n",
      " - Sancti Spíritus - 0.01%\n",
      " - Salinas - 0.01%\n",
      " - Ambato - 0.01%\n",
      " - Riobamba - 0.01%\n",
      " - Santa Tecla - 0.01%\n",
      " - San Salvador - 0.01%\n",
      " - Antigua Guatemala - 0.01%\n",
      " - Cuernavaca - 0.01%\n",
      " - Saltillo - 0.01%\n",
      " - Chihuahua - 0.01%\n",
      " - Ecatepec - 0.01%\n",
      " - Victoria de Durango - 0.01%\n",
      " - Tijuana - 0.01%\n",
      " - Cancún - 0.01%\n",
      " - Ciudad Nezahualcóyotl - 0.01%\n",
      " - Chinandega - 0.01%\n",
      " - Ciudad de Panamá - 0.01%\n",
      " - San Lorenzo - 0.01%\n",
      " - Encarnación - 0.01%\n",
      " - Trujillo - 0.01%\n",
      " - Puno - 0.01%\n",
      " - Santo Domingo - 0.01%\n",
      " - Trinidad - 0.01%\n",
      " - Florida - 0.01%\n",
      " - Barcelona - 0.01%\n",
      " - Formosa - 0.01%\n"
     ]
    }
   ],
   "source": [
    "sorted_tuples_Participacion_Region = participation_per_key_DESC(list_all_normalized, 'Ciudad')\n",
    "for tuple_record in sorted_tuples_Participacion_Region:\n",
    "    print(f' - {tuple_record[0]} - {percentage(register_total,tuple_record[1])}%')\n"
   ]
  },
  {
   "cell_type": "markdown",
   "id": "c54ea6d9-29aa-4788-9abe-fe6fdb5ba797",
   "metadata": {
    "id": "c54ea6d9-29aa-4788-9abe-fe6fdb5ba797"
   },
   "source": [
    "3. Printear porcentaje de participación por tipo de rol, ordenado de mayor a menor. Ej:  \n",
    "`- Developer - 39.11 %`"
   ]
  },
  {
   "cell_type": "code",
   "execution_count": 70,
   "id": "907bc7bd-1f7d-48be-9874-76813ebe89c2",
   "metadata": {
    "id": "907bc7bd-1f7d-48be-9874-76813ebe89c2"
   },
   "outputs": [
    {
     "name": "stdout",
     "output_type": "stream",
     "text": [
      " - Developer - 40.69%\n",
      " - SysAdmin / DevOps / SRE - 11.09%\n",
      " - Technical Leader - 6.16%\n",
      " - QA / Tester - 4.29%\n",
      " - Manager / Director - 4.28%\n",
      " - Project Manager - 3.09%\n",
      " - HelpDesk - 2.62%\n",
      " - BI Analyst / Data Analyst - 2.45%\n",
      " - Architect - 2.23%\n",
      " - Consultant - 1.92%\n",
      " - Data Engineer - 1.76%\n",
      " - Business Analyst - 1.69%\n",
      " - Networking - 1.54%\n",
      " - UX - 1.5%\n",
      " - Data Scientist - 1.48%\n",
      " - Infosec - 1.43%\n",
      " - Recruiter / HR - 1.24%\n",
      " - Product Manager - 1.21%\n",
      " - DBA - 0.71%\n",
      " - Scrum Master - 0.66%\n",
      " - Designer - 0.64%\n",
      " - VP / C-Level - 0.55%\n",
      " - Sales / Pre-Sales - 0.42%\n",
      " - Middleware - 0.17%\n",
      " - Finance - 0.17%\n",
      " - Technical Writer - 0.16%\n",
      " - Storage / Backup - 0.12%\n",
      " - Analista funcional - 0.09%\n",
      " - Docente - 0.07%\n",
      " - Product Owner - 0.06%\n",
      " - Agile Coach - 0.04%\n",
      " - Software Engineer - 0.04%\n",
      " - analista funcional - 0.04%\n",
      " - Analista Funcional - 0.04%\n",
      " - DevOps - 0.04%\n",
      " - Coordinador - 0.04%\n",
      " - RPA - 0.04%\n",
      " - Analista - 0.03%\n",
      " - Team leader - 0.03%\n",
      " - Support Engineer - 0.03%\n",
      " - People Analytics - 0.03%\n",
      " - Data Architect - 0.03%\n",
      " - Team Leader - 0.03%\n",
      " - Productor y vendedor - 0.03%\n",
      " - Cloud Security - 0.03%\n",
      " - NLP Developer - 0.03%\n",
      " - Soporte tecnico - 0.03%\n",
      " - SDET - 0.03%\n",
      " - Profesor - 0.03%\n",
      " - Cybersecurity - 0.03%\n",
      " - Functional Analyst - 0.03%\n",
      " - Product owner - 0.03%\n",
      " - Technical Analyst - 0.03%\n",
      " - Service Designer - 0.03%\n",
      " - Project Engineering - 0.03%\n",
      " - Auditor - 0.03%\n",
      " - QA Automation - 0.03%\n",
      " - Functional analyst - 0.03%\n",
      " - UI - 0.03%\n",
      " - Soporte IT - 0.03%\n",
      " - Change Manager - 0.03%\n",
      " - soporte - 0.03%\n",
      " - Alliances Manager (Indirect Sales) - 0.01%\n",
      " - Data Quality - 0.01%\n",
      " - Aprentice - 0.01%\n",
      " - ingeniero infraestructuras de virtualizacion - 0.01%\n",
      " - Teacher - 0.01%\n",
      " - Profesor de teatro  - 0.01%\n",
      " - TI - 0.01%\n",
      " - Mix entre SysAdmin y Developer pasando por DBA - 0.01%\n",
      " - Chef - 0.01%\n",
      " - Artesanal - 0.01%\n",
      " - Technical Support Engineer - 0.01%\n",
      " - Salesforce Admin/Developer - 0.01%\n",
      " - Analista Funcional de Sistemas - 0.01%\n",
      " - independiente  - 0.01%\n",
      " - Soporte on site - 0.01%\n",
      " - App analyst - 0.01%\n",
      " - Cajera - 0.01%\n",
      " - Technical Business Analyst - 0.01%\n",
      " - Administrador Infraestructura - 0.01%\n",
      " - help desk + backup + vmware + sys admin - 0.01%\n",
      " - Data Visualization - 0.01%\n",
      " - Mainframe - 0.01%\n",
      " - machine learning egineer - 0.01%\n",
      " - exploit writer - 0.01%\n",
      " - BI Sr. Manager - 0.01%\n",
      " - Operador - 0.01%\n",
      " - soporte nivel 1,2 y 3 - 0.01%\n",
      " -  Cloud Architect - 0.01%\n",
      " - Engineering Manager - 0.01%\n",
      " - Técnicamente soy QA pero hago trabajo de PO ¿trainee? - 0.01%\n",
      " - SRE - 0.01%\n",
      " - supervisor helpdek - 0.01%\n",
      " - Asistencia técnica - 0.01%\n",
      " - lead - 0.01%\n",
      " - Soporte - 0.01%\n",
      " - Tech support  - 0.01%\n",
      " - Back office - 0.01%\n",
      " - analista - 0.01%\n",
      " - Jefe operacion ti - 0.01%\n",
      " - Auditoría - 0.01%\n",
      " - IT Infrastructure Engineer - 0.01%\n",
      " - Data Center - 0.01%\n",
      " - Software engineer  - 0.01%\n",
      " - Information Security - 0.01%\n",
      " - SAP Basis - 0.01%\n",
      " - Seguridad informática  - 0.01%\n",
      " - Seguridad - 0.01%\n",
      " - Coordinador operaciones y soporte aplicativo - 0.01%\n",
      " - Application Engineer - 0.01%\n",
      " - Becario doctoral  - 0.01%\n",
      " - Automation Engineer - 0.01%\n",
      " - Analista Tecnico - 0.01%\n",
      " - Frontend Developer - 0.01%\n",
      " - Jefe de Sistemas - 0.01%\n",
      " - IT Auditor - 0.01%\n",
      " - Security Architect - 0.01%\n",
      " - implementacion de sistemas informatico de salud -SAP -Funcional - 0.01%\n",
      " - Gerente de Sistemas - 0.01%\n",
      " - soporte  técnico nivel 3 (infraestructura) - 0.01%\n",
      " - Seguridad informatica - 0.01%\n",
      " - Comunicación / Redes sociales - 0.01%\n",
      " - adm de infra - 0.01%\n",
      " - Developer, DevOps - 0.01%\n",
      " - Analista SAP Basis - 0.01%\n",
      " - Soporte Tecnico SQL - 0.01%\n",
      " - QA Automation  - 0.01%\n",
      " - team leader - 0.01%\n",
      " - AV Technical Support - 0.01%\n",
      " - Sales Executive - 0.01%\n",
      " - ETL DEVELOPER - 0.01%\n",
      " - Security researcher - 0.01%\n",
      " - Gerente de atracción de TI y Comercial - 0.01%\n",
      " - Cybersecurity  - 0.01%\n",
      " - Delivery Manager - 0.01%\n",
      " - Varios - 0.01%\n",
      " - Integration  - 0.01%\n",
      " - Problem Manager - 0.01%\n",
      " - Soporte IT LAB nivel 1, 2, 3  - 0.01%\n",
      " - Director of DevOps and IT - 0.01%\n",
      " - Proyect Leader / Developer / Toolsmith - 0.01%\n",
      " - Technical Owner - 0.01%\n",
      " - Datasteward - 0.01%\n",
      " - Seguridad Informática - Accesos - 0.01%\n",
      " - IPM - 0.01%\n",
      " - Esp. Telecomunicaciones - 0.01%\n",
      " - Agile coach - 0.01%\n",
      " - QA - Automation Engineer - 0.01%\n",
      " - Ad Tech - 0.01%\n",
      " - Trainee etl - 0.01%\n",
      " - Data Governance Specialist - 0.01%\n",
      " - Jefe de canales digitales - 0.01%\n",
      " - Ingeniero en Seguridad Informatica - 0.01%\n",
      " - Incident&Risk Leader - 0.01%\n",
      " - Machine Learning Engineer - 0.01%\n",
      " - Developer/DevOps - 0.01%\n",
      " - UX User Research - 0.01%\n",
      " - UX Leader - 0.01%\n",
      " - IT Operations Analyst - 0.01%\n",
      " - Customer success manager - 0.01%\n",
      " - Marketing - 0.01%\n",
      " - Analista mainframe - 0.01%\n",
      " - Application DBA - 0.01%\n",
      " - Network Analyst Security - 0.01%\n",
      " - uxui - 0.01%\n",
      " - CyberSecurity - 0.01%\n",
      " - Tech Lead / Arquitecto - 0.01%\n",
      " - Consultor Senior - Especialista en Ciberseguridad - 0.01%\n",
      " - Qa lead - 0.01%\n",
      " - Service Delivery Manager, Application Support, ITGC - 0.01%\n",
      " - Administrador de Windows Server - Cloud - 0.01%\n",
      " - Analista contable  - 0.01%\n",
      " - Servicio técnico  - 0.01%\n",
      " - Functional Analyst Jr - 0.01%\n",
      " - Operation Lead - 0.01%\n",
      " - Cloud Admin - 0.01%\n",
      " - Technical Support - 0.01%\n",
      " - Analista IT - 0.01%\n",
      " - Integration Developer - 0.01%\n",
      " - Profesor de Tecnología de la Información - 0.01%\n",
      " - AppDynamics Engineer - 0.01%\n",
      " - Research - 0.01%\n",
      " - Functional - 0.01%\n",
      " - Technical Account Manager - 0.01%\n",
      " - Analista de sistema - 0.01%\n",
      " - Ingeniero de Laboratorio - 0.01%\n",
      " - Gerente - 0.01%\n",
      " - Atlassian Specialist - 0.01%\n",
      " - RPA & ETL Developer - 0.01%\n",
      " - mezcla de sysadmin, networking, dba... de todo un poco - 0.01%\n",
      " - FULL STACK Y BI - 0.01%\n",
      " - NLP Analyst - 0.01%\n",
      " - devops - 0.01%\n",
      " - Analista de metodología - 0.01%\n",
      " - Computational Linguist Junior - 0.01%\n",
      " - Analista NPL - 0.01%\n",
      " - Consultor de Implementación - 0.01%\n",
      " - NOC - 0.01%\n",
      " - analista de sistemas - 0.01%\n",
      " - Trafficker - 0.01%\n",
      " - Calidad - 0.01%\n",
      " - RRHH - 0.01%\n",
      " - Creative Copywriter - 0.01%\n",
      " - Pipeline Technical Artist - 0.01%\n",
      " - Desarrollador plsql + Desarrollador web + soporte-analista funcional - 0.01%\n",
      " - Analista Seguridad informatica - 0.01%\n",
      " - Sr Staff engineer - 0.01%\n",
      " - Tech Manager - 0.01%\n",
      " - Analista funcional sr - 0.01%\n",
      " - Jefe de it - 0.01%\n",
      " - Ingeniero de soporte - 0.01%\n",
      " - Gerente de Atracción de talentos y comercial - 0.01%\n",
      " - Product designer - 0.01%\n",
      " - Senior Product Owner - 0.01%\n",
      " - Product support - 0.01%\n",
      " - Cloud Engineer - 0.01%\n",
      " - Ingeniero en informatica - 0.01%\n",
      " - Responsable de Marketing - 0.01%\n",
      " - Data Modeling Engineer - 0.01%\n",
      " - CTO - 0.01%\n",
      " - Cloud admin - 0.01%\n",
      " - analisis funcional - 0.01%\n",
      " - Media comunnications - 0.01%\n",
      " - Analyst - 0.01%\n",
      " - UI  - 0.01%\n",
      " - Jefe de Soporte y Operaciones - 0.01%\n",
      " - Soy el dpto de sistemas en una escuela de 80 pc y 400 por wifi..hago todo - 0.01%\n",
      " - Software engineer - 0.01%\n",
      " - Cyber security - 0.01%\n",
      " - Analytics Engineer - 0.01%\n",
      " - conversational designer - 0.01%\n",
      " - administrativo - 0.01%\n",
      " - Access Managment Sr - 0.01%\n",
      " - Sistemas - 0.01%\n",
      " - Productora de Eventos - 0.01%\n",
      " - IT Specialist - 0.01%\n",
      " - Product Analyst - 0.01%\n",
      " - Soporte técnico - 0.01%\n",
      " - Support Senior - 0.01%\n",
      " - Soporte Transaccional - 0.01%\n",
      " - suport L2 - 0.01%\n",
      " - ERP Developer - 0.01%\n",
      " - RPA DEVELOPER - 0.01%\n",
      " - Test Automation Engineer - 0.01%\n",
      " - Field Operations / Telecommunications - 0.01%\n",
      " - Research Engineer - 0.01%\n",
      " - Responsable de área de sistemas  - 0.01%\n",
      " - Soporte Nivel 2 - 0.01%\n",
      " - Encargado Área de Sistemas - 0.01%\n",
      " - Atlassian Consultant - 0.01%\n",
      " - Business Analyst y Scrum Master - 0.01%\n",
      " - Noc  - 0.01%\n",
      " - full stack developer - 0.01%\n",
      " - SupportEngineer - 0.01%\n",
      " - QA Lead - 0.01%\n",
      " - Docencia - 0.01%\n",
      " - CloudEngineer/Dev/DevOps - 0.01%\n",
      " - artist - 0.01%\n",
      " - Product Lead - 0.01%\n",
      " - Team Lead - 0.01%\n",
      " - Project Manager, Product Manager, Developer, SRE - 0.01%\n",
      " - Tecnico telecomunicaciones - 0.01%\n",
      " - Laboratorio universitario - 0.01%\n",
      " - Administrativo  - 0.01%\n",
      " - SITE SUPPORT - 0.01%\n",
      " - soporte técnico - 0.01%\n",
      " - Wordpress - 0.01%\n",
      " - Cloud - 0.01%\n",
      " - IT Services - 0.01%\n",
      " - Lead Data Engineer - 0.01%\n",
      " - Project Leader - 0.01%\n",
      " - ADMINISTRATIVA - 0.01%\n",
      " - CRO - 0.01%\n",
      " - Trainee - 0.01%\n",
      " - Security Engineer - 0.01%\n",
      " - Operador NOC - 0.01%\n",
      " - jefe de sistemas - 0.01%\n",
      " - tecnico de calle - 0.01%\n",
      " - redactor y editor, diseño, contenidos - 0.01%\n",
      " - Product Security - 0.01%\n",
      " - On Site Support - 0.01%\n",
      " - SAP Basis administrator - 0.01%\n",
      " - CRM developer - 0.01%\n",
      " - Integrator - 0.01%\n",
      " - Operador noc - 0.01%\n",
      " - Administrativa  - 0.01%\n",
      " - Soporte Tecnico de Infraestructura - 0.01%\n",
      " - ADMINISTRATIVO DE DEPOSITO - 0.01%\n",
      " - Postproducer - 0.01%\n",
      " - DevOps, Desarrollo, Diseño, Instalo arquitectura, Monitoreo, etc - 0.01%\n",
      " - Systems integration analyst - 0.01%\n",
      " - People Care - 0.01%\n",
      " - Docente Universitario - 0.01%\n",
      " - Helpdesl / Tecnico en Reparacion de PC, Notebooks e impresoras / Tecnico instalador de HFC y FTTH - 0.01%\n",
      " - Security Analist - 0.01%\n",
      " - De todo un poco - 0.01%\n",
      " - Fullstack - 0.01%\n",
      " - soporte tecnico - 0.01%\n",
      " - Especialista en Yacimiento Digital - 0.01%\n",
      " - mezcla entre helpdesk y admin base de datos - 0.01%\n",
      " - Productivity & collaboration - 0.01%\n",
      " - DBA / Developer - 0.01%\n",
      " - Ayudante en cursos de programación - 0.01%\n",
      " - Administrador de sistema ERP - 0.01%\n",
      " - Growth Engineer  - 0.01%\n",
      " - Programador - 0.01%\n",
      " - Tecnology - 0.01%\n",
      " - Cloud engineer - 0.01%\n",
      " - Jefe división Informática - 0.01%\n",
      " - subject matter expert - 0.01%\n",
      " - BI Engineer - 0.01%\n",
      " - de todo - 0.01%\n",
      " - Analista funcional  - 0.01%\n",
      " - Digital Marketing - 0.01%\n",
      " - Analista funcional y coordinadora de grupo de mantenimiento  - 0.01%\n",
      " - TI-Infraestructura - 0.01%\n",
      " - Security Research - 0.01%\n",
      " - Support - 0.01%\n",
      " - Responsable it - 0.01%\n",
      " - Profesor de Informática - 0.01%\n",
      " - FrontEnd Chapter Lead - 0.01%\n",
      " - software ingeniero - 0.01%\n",
      " - Tutor - 0.01%\n",
      " - Technical support (not help desk) - 0.01%\n",
      " - Principal SE - 0.01%\n",
      " - BI Developer - 0.01%\n",
      " - Architecture engineering  - 0.01%\n",
      " - PMO Manager - 0.01%\n",
      " - Instructor - 0.01%\n",
      " - Chapter Lead - 0.01%\n",
      " - Programador de automatas - 0.01%\n",
      " - Responsable de Infraestructura - 0.01%\n",
      " - Deposito - 0.01%\n",
      " - UI - frontend - 0.01%\n",
      " - CIO - 0.01%\n",
      " - Cashier - 0.01%\n",
      " - Operations Lead - 0.01%\n",
      " - Freelance - 0.01%\n",
      " - Application Support - 0.01%\n",
      " - DBA+frontend - 0.01%\n",
      " - Education - 0.01%\n",
      " - IT Support - 0.01%\n",
      " - Business Analyst, QA / Tester, Project Manager,Product Manager - 0.01%\n",
      " - Referente de area  - 0.01%\n",
      " - Desarrollos de modelos fisicos en C, C++ o Python, para ser integrados en un software de simulacion de vuelo - 0.01%\n",
      " - administracion - 0.01%\n",
      " - Redacción - 0.01%\n",
      " - tecnico - 0.01%\n",
      " - Administración - 0.01%\n",
      " - redactor creativo - 0.01%\n",
      " - Telecomunicaciones  - 0.01%\n",
      " - Desarrollador ETL - 0.01%\n",
      " - Analista implementador - 0.01%\n",
      " - Jefe de Área de Sistemas - 0.01%\n",
      " - Estructurado - 0.01%\n",
      " - RPA Developer - 0.01%\n",
      " - Soporte de Campo - 0.01%\n",
      " - Implementador de sistemas - 0.01%\n",
      " - Auditoria - 0.01%\n",
      " - Ingeniero Electrónico - 0.01%\n",
      " - Implementador de Sistemas - 0.01%\n",
      " - Administrativo - 0.01%\n",
      " - Implementador - 0.01%\n",
      " - SysAdmin / Storage / Backup / Networking - 0.01%\n",
      " - Community manager en IT - 0.01%\n",
      " - TI generalista - 0.01%\n",
      " - FrontEnd Developer - 0.01%\n",
      " - Atención al cliente en Naranja X - 0.01%\n"
     ]
    }
   ],
   "source": [
    "sorted_tuples_Participacion_Rol = participation_per_key_DESC(list_all_normalized, 'Trabajo de')\n",
    "for tuple_record in sorted_tuples_Participacion_Rol:\n",
    "    print(f' - {tuple_record[0]} - {percentage(register_total,tuple_record[1])}%')\n"
   ]
  },
  {
   "cell_type": "markdown",
   "id": "86afc125-4a66-42de-a238-2aeec44a43d1",
   "metadata": {
    "id": "86afc125-4a66-42de-a238-2aeec44a43d1"
   },
   "source": [
    "4. Printear porcentaje de respuesta para las preguntas: \n",
    "* ¿Contribuís a proyectos Open Source?\n",
    "* ¿Programás por hobbie?"
   ]
  },
  {
   "cell_type": "code",
   "execution_count": 76,
   "id": "43780b5a-1435-44ad-bc50-d5da3a8660e9",
   "metadata": {
    "id": "43780b5a-1435-44ad-bc50-d5da3a8660e9"
   },
   "outputs": [
    {
     "name": "stdout",
     "output_type": "stream",
     "text": [
      "¿Contribuís a proyectos open source?\n",
      " -  - 49.44%\n",
      " - No - 42.99%\n",
      " - Sí - 7.57%\n"
     ]
    }
   ],
   "source": [
    "sorted_tuples_Participacion_Open_Source = participation_per_key_DESC(list_all_normalized, '¿Contribuís a proyectos open source?')\n",
    "print('¿Contribuís a proyectos open source?')\n",
    "for tuple_record in sorted_tuples_Participacion_Open_Source:\n",
    "    print(f' - {tuple_record[0]} - {percentage(register_total,tuple_record[1])}%')"
   ]
  },
  {
   "cell_type": "code",
   "execution_count": 77,
   "id": "a409a702",
   "metadata": {},
   "outputs": [
    {
     "name": "stdout",
     "output_type": "stream",
     "text": [
      "¿Programás por hobbie?\n",
      " -  - 49.44%\n",
      " - Sí - 28.34%\n",
      " - No - 22.22%\n"
     ]
    }
   ],
   "source": [
    "sorted_tuples_Participacion_Hobbie = participation_per_key_DESC(list_all_normalized, '¿Programás como hobbie?')\n",
    "print('¿Programás por hobbie?')\n",
    "for tuple_record in sorted_tuples_Participacion_Hobbie:\n",
    "    print(f' - {tuple_record[0]} - {percentage(register_total,tuple_record[1])}%')"
   ]
  },
  {
   "cell_type": "markdown",
   "id": "d34da47a-01d6-4b6f-a8cd-0626de035376",
   "metadata": {
    "id": "d34da47a-01d6-4b6f-a8cd-0626de035376"
   },
   "source": [
    "5. Printear porcentaje por seniority según años de experiencia, el mapeo es:\n",
    "```\n",
    "Junior: de 0 hasta 2 años.\n",
    "Semi-Senior: de 2 años inclusive hasta 5 años.\n",
    "Senior: desde 5 años inclusive.\n",
    "``` "
   ]
  },
  {
   "cell_type": "code",
   "execution_count": null,
   "id": "7c54d9d9-fbd2-4057-882f-4d82bda0d7ef",
   "metadata": {
    "id": "7c54d9d9-fbd2-4057-882f-4d82bda0d7ef"
   },
   "outputs": [],
   "source": []
  },
  {
   "cell_type": "markdown",
   "id": "7a182336-14cd-4e10-82d5-920779453a87",
   "metadata": {
    "id": "7a182336-14cd-4e10-82d5-920779453a87"
   },
   "source": [
    "6. Printear porcentaje de personas encuestadas por años en la compañía actual y por años en el puesto actual."
   ]
  },
  {
   "cell_type": "code",
   "execution_count": null,
   "id": "e7cb4e75-62ab-4c32-b210-a05f6944eabf",
   "metadata": {
    "id": "e7cb4e75-62ab-4c32-b210-a05f6944eabf"
   },
   "outputs": [],
   "source": []
  },
  {
   "cell_type": "markdown",
   "id": "0c7df29f-b36c-424b-b5a7-0c37e0ccfe99",
   "metadata": {
    "id": "0c7df29f-b36c-424b-b5a7-0c37e0ccfe99"
   },
   "source": [
    "7. Printear porcentajes de nivel de educación formal y estado, es decir: % educación secundaria, terciaria, universitaria, postgrado, doctorado, postdoctorado, completo, incompleto y en curso para cada uno."
   ]
  },
  {
   "cell_type": "code",
   "execution_count": null,
   "id": "e90f47ab-c8eb-4a92-8a36-2ed3c369deb4",
   "metadata": {
    "id": "e90f47ab-c8eb-4a92-8a36-2ed3c369deb4"
   },
   "outputs": [],
   "source": []
  },
  {
   "cell_type": "markdown",
   "id": "51786345-dfc6-4c3a-98d9-5e57bd1ce48b",
   "metadata": {
    "id": "51786345-dfc6-4c3a-98d9-5e57bd1ce48b"
   },
   "source": [
    "8. Formatear las carreras universitarias:\n",
    "- Nombres capitalizados\n",
    "- Reemplazar vocales con tilde por vocales sin tilde.\n",
    "- Reemplazar `ñ` por `n`\n",
    "- *lic*, *lic.* por Licenciatura\n",
    "- *tec*, *tec.* por Tecnucatura\n",
    "* *cs, *cs.* por Ciencias\n",
    "* *ed, ed.* por Educación\n",
    "* Transformaciones que se consideren necesarias\n",
    "\n",
    "Printear porcentaje según carrera"
   ]
  },
  {
   "cell_type": "code",
   "execution_count": null,
   "id": "57336a2e-5dec-4c81-a3d5-89edbbe69da8",
   "metadata": {
    "id": "57336a2e-5dec-4c81-a3d5-89edbbe69da8"
   },
   "outputs": [],
   "source": []
  },
  {
   "cell_type": "markdown",
   "id": "ea803c6d-6a61-4d98-be72-116ae2855e70",
   "metadata": {
    "id": "ea803c6d-6a61-4d98-be72-116ae2855e70"
   },
   "source": [
    "9. Printear porcentaje de respuesta a las preguntas:\n",
    "- ¿Realizaste cursos de especialización?\n",
    "- Si realizaste, ¿Quién pagó por los cursos de especialización?"
   ]
  },
  {
   "cell_type": "code",
   "execution_count": null,
   "id": "99f82b25-fa8a-42b4-8349-19035ff67fce",
   "metadata": {
    "id": "99f82b25-fa8a-42b4-8349-19035ff67fce"
   },
   "outputs": [],
   "source": []
  },
  {
   "cell_type": "markdown",
   "id": "cb7a4544-062a-4429-abea-f0b7293b48f7",
   "metadata": {
    "id": "cb7a4544-062a-4429-abea-f0b7293b48f7"
   },
   "source": [
    "10. Printear porcentaje por identidad de género y personas con discapacidad"
   ]
  },
  {
   "cell_type": "code",
   "execution_count": null,
   "id": "a6e907fc-ecb6-4255-8eba-59b9199f14a6",
   "metadata": {
    "id": "a6e907fc-ecb6-4255-8eba-59b9199f14a6"
   },
   "outputs": [],
   "source": []
  },
  {
   "cell_type": "markdown",
   "id": "acde6b71-2537-421f-8398-2ca8afd34398",
   "metadata": {
    "id": "acde6b71-2537-421f-8398-2ca8afd34398"
   },
   "source": [
    "11. Salarios: calcular la mediana salarial para cada una de las siguientes categorías:\n",
    "- Salario según región\n",
    "- Salario por rol\n",
    "- Salario por experiencia\n",
    "- Salario por nivel de formación\n",
    "- Salario por carrera\n",
    "- Salario por tecnología\n",
    "- Salario por lenguaje de programación\n",
    "- Salario por género"
   ]
  },
  {
   "cell_type": "code",
   "execution_count": null,
   "id": "f0bec90b-39ac-4c13-b31b-b12715ffafd0",
   "metadata": {
    "id": "f0bec90b-39ac-4c13-b31b-b12715ffafd0"
   },
   "outputs": [],
   "source": []
  },
  {
   "cell_type": "markdown",
   "id": "bfd2e756-d810-4738-ab4a-4020aeb9bf4a",
   "metadata": {
    "id": "bfd2e756-d810-4738-ab4a-4020aeb9bf4a"
   },
   "source": [
    "12. Printear porcentaje y salario según tipos de contrato ."
   ]
  },
  {
   "cell_type": "code",
   "execution_count": null,
   "id": "50a8f438-b75d-474d-9117-e03f24bc77bf",
   "metadata": {
    "id": "50a8f438-b75d-474d-9117-e03f24bc77bf"
   },
   "outputs": [],
   "source": []
  },
  {
   "cell_type": "markdown",
   "id": "b867ef71-a19c-4a99-a7ae-01798459d5f3",
   "metadata": {
    "id": "b867ef71-a19c-4a99-a7ae-01798459d5f3"
   },
   "source": [
    "13. En base a los resultados obtenidos confeccionar conclusiones respecto a:\n",
    "\n",
    "- Rol vs sueldos\n",
    "- Nivel de educación alcanzada vs sueldos\n",
    "- Género vs sueldos\n",
    "- Tecnologías populares"
   ]
  },
  {
   "cell_type": "code",
   "execution_count": null,
   "id": "c12ba74a-1406-4bf3-8e7e-109070668352",
   "metadata": {
    "id": "c12ba74a-1406-4bf3-8e7e-109070668352"
   },
   "outputs": [],
   "source": []
  },
  {
   "cell_type": "markdown",
   "id": "da479f0a-f254-4189-94d3-ac1444245fee",
   "metadata": {
    "id": "da479f0a-f254-4189-94d3-ac1444245fee"
   },
   "source": [
    "14. Generar gráficos de barra para mostrar los resultados mencionados anteriormente usando strings, ej:\n",
    "\n",
    "```\n",
    "developer | -----------------------------------------------\n",
    "sysadmin  | ---------------------------\n",
    "QA        | ------------------\n",
    "          | ..................5%.......10%...............40%\n",
    "```"
   ]
  },
  {
   "cell_type": "code",
   "execution_count": null,
   "id": "74b1f7bc-6f02-4ec5-b7c4-4d8de3efe28f",
   "metadata": {
    "id": "74b1f7bc-6f02-4ec5-b7c4-4d8de3efe28f"
   },
   "outputs": [],
   "source": []
  }
 ],
 "metadata": {
  "colab": {
   "name": "8.analisis-de-sueldos-con-python.ipynb",
   "provenance": []
  },
  "kernelspec": {
   "display_name": "Python 3 (ipykernel)",
   "language": "python",
   "name": "python3"
  },
  "language_info": {
   "codemirror_mode": {
    "name": "ipython",
    "version": 3
   },
   "file_extension": ".py",
   "mimetype": "text/x-python",
   "name": "python",
   "nbconvert_exporter": "python",
   "pygments_lexer": "ipython3",
   "version": "3.9.7"
  }
 },
 "nbformat": 4,
 "nbformat_minor": 5
}
