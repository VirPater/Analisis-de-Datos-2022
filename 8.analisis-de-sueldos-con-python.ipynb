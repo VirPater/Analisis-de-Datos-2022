{
 "cells": [
  {
   "cell_type": "markdown",
   "id": "fd3fa483-c0db-463e-94d7-99b33e0f342e",
   "metadata": {
    "id": "fd3fa483-c0db-463e-94d7-99b33e0f342e"
   },
   "source": [
    "# Análisis de sueldos con Python"
   ]
  },
  {
   "cell_type": "markdown",
   "id": "ade5a290-3d22-4151-bedf-8a51fcac2300",
   "metadata": {
    "id": "ade5a290-3d22-4151-bedf-8a51fcac2300"
   },
   "source": [
    "## Data\n",
    "\n",
    "* [2021.2 - sysarmy - Encuesta de remuneración salarial Argentina\n",
    "](https://docs.google.com/spreadsheets/d/1-ZRznwS4TK74o90aOiCKS5SiXxUQ2buN1wxZIMHQmzQ/edit#gid=557755710) \n",
    "* [2021.2 - sysarmy - Encuesta de remuneración salarial Latam\n",
    "](https://docs.google.com/spreadsheets/d/1BkBNt1MHVS7DeIlpgmK9l6krtSQ5t_olRhlcyxMeKy0/edit#gid=557755710)"
   ]
  },
  {
   "cell_type": "markdown",
   "id": "684accd7-8da2-41d5-985b-caa44133b114",
   "metadata": {
    "id": "684accd7-8da2-41d5-985b-caa44133b114"
   },
   "source": [
    "1. Descargar, leer y unir en una sola estructura de datos. ¿Qué estructura elegiste y por qué?"
   ]
  },
  {
   "cell_type": "code",
   "execution_count": null,
   "id": "cfa3ef02-5aba-4793-8a27-a1fdc4fb7111",
   "metadata": {
    "id": "cfa3ef02-5aba-4793-8a27-a1fdc4fb7111"
   },
   "outputs": [],
   "source": [
    "# En este primer punto se traerán los datos de los dos archivos para trabajar.\n",
    "# Se ordenarán de tal forma que simplifique el trabajo posterior, así como la normalizacion de sus valores."
   ]
  },
  {
   "cell_type": "code",
   "execution_count": null,
   "id": "0fa1a362",
   "metadata": {},
   "outputs": [],
   "source": [
    "# A continuación la importación de la encuesta de Latam y la definición de su estructura que será listas de diccionarios."
   ]
  },
  {
   "cell_type": "code",
   "execution_count": 1,
   "id": "0588da94",
   "metadata": {},
   "outputs": [],
   "source": [
    "import csv\n",
    "\n",
    "list_keys = []\n",
    "list_values = []\n",
    "list_dict_info_latam = []                                     # acá se guarda la info de los dict de Latam\n",
    "\n",
    "with open('2021.2 - sysarmy - Encuesta de remuneración salarial Latam - Latam.tsv', encoding=\"utf8\") as s_latam:\n",
    "    latam_reader = csv.reader(s_latam, delimiter='\\t')\n",
    "    for index, line in enumerate(latam_reader):\n",
    "        #if index > 9:\n",
    "            #print(f'{latam_line}')\n",
    "        # Líneas 0 a 9 vacías\n",
    "        # Líneas 10  -> preguntas\n",
    "        # Líneas 11+ -> respuestas\n",
    "        if index == 10:\n",
    "            list_keys = line\n",
    "            list_keys[0] = 'País'                              # La pregunta Estoy trabajando en se pasa a llamar País\n",
    "            dict_base = dict()\n",
    "            for key in list_keys:\n",
    "                dict_base[key] = ''\n",
    "            #print(line)\n",
    "        elif index >= 11:\n",
    "            list_values = line\n",
    "            dict_info = dict_base.copy()\n",
    "            for i, key in enumerate(dict_info.keys()):\n",
    "                dict_info[key] = list_values[i]\n",
    "            #print(dict_info)\n",
    "            dict_info['Ciudad'] = dict_info[dict_info['País']]  # Se agrega una pregunta Ciudad con respuesta variable\n",
    "            \n",
    "            for i, key in enumerate(list_keys[1:19]):           # Para borrar las columnas de los países con sus regiones\n",
    "                dict_info.pop(key)\n",
    "            #print(dict_info)\n",
    "            \n",
    "            list_dict_info_latam.append(dict_info)\n",
    "        \n",
    "\n"
   ]
  },
  {
   "cell_type": "code",
   "execution_count": null,
   "id": "690ff0b6",
   "metadata": {},
   "outputs": [],
   "source": [
    "# A continuación la importación de la encuesta de Argentina y la definición de la estructura listas de diccionario."
   ]
  },
  {
   "cell_type": "code",
   "execution_count": 2,
   "id": "1df488e2",
   "metadata": {},
   "outputs": [],
   "source": [
    "import csv\n",
    "\n",
    "list_keys = []\n",
    "list_values = []\n",
    "list_dict_info_arg = []                           # Acá se guarda la info de los dict de Argentina\n",
    "\n",
    "with open('2021.2 - sysarmy - Encuesta de remuneración salarial Argentina - Argentina.tsv', encoding=\"utf8\") as s_arg:\n",
    "    arg_reader = csv.reader(s_arg, delimiter='\\t')\n",
    "    for index, line in enumerate(arg_reader):\n",
    "        #if index > 8:\n",
    "            #print(f'{arg_line}')\n",
    "        # Líneas 0 a 8 vacías\n",
    "        # Líneas 9   -> preguntas\n",
    "        # Líneas 10+ -> respuestas\n",
    "        if index == 9:\n",
    "            list_keys = line\n",
    "            list_keys[0] = 'Ciudad'                #La pregunta Dónde estás trabajando se pasa a llamar Ciudad\n",
    "            dict_base = dict()\n",
    "            for key in list_keys:\n",
    "                dict_base[key] = ''\n",
    "            #print(line)\n",
    "        elif index >= 10:\n",
    "            list_values = line\n",
    "            dict_info = dict_base.copy()\n",
    "            for i, key in enumerate(dict_info.keys()):\n",
    "                dict_info[key] = list_values[i]\n",
    "            #print(dict_info)\n",
    "            dict_info['País'] = 'Argentina'          # Se agrega una pregunta País con respuesta Argentina\n",
    "            \n",
    "            list_dict_info_arg.append(dict_info)\n",
    "                "
   ]
  },
  {
   "cell_type": "code",
   "execution_count": null,
   "id": "f4f2a159",
   "metadata": {},
   "outputs": [],
   "source": [
    "# A continuación seran unidas las dos estructuras en una sola. Argentina se agregará a Latam"
   ]
  },
  {
   "cell_type": "code",
   "execution_count": 3,
   "id": "751b7ec4",
   "metadata": {},
   "outputs": [],
   "source": [
    "list_all = list_dict_info_latam + list_dict_info_arg"
   ]
  },
  {
   "cell_type": "code",
   "execution_count": 4,
   "id": "6d7098e7",
   "metadata": {},
   "outputs": [
    {
     "name": "stdout",
     "output_type": "stream",
     "text": [
      "6869\n"
     ]
    }
   ],
   "source": [
    "print(len(list_all))"
   ]
  },
  {
   "cell_type": "code",
   "execution_count": 5,
   "id": "8a4edd4f",
   "metadata": {},
   "outputs": [
    {
     "name": "stdout",
     "output_type": "stream",
     "text": [
      "429\n"
     ]
    }
   ],
   "source": [
    "print(len(list_dict_info_latam))"
   ]
  },
  {
   "cell_type": "code",
   "execution_count": 6,
   "id": "15e3ae79",
   "metadata": {},
   "outputs": [
    {
     "name": "stdout",
     "output_type": "stream",
     "text": [
      "6440\n"
     ]
    }
   ],
   "source": [
    "print(len(list_dict_info_arg))"
   ]
  },
  {
   "cell_type": "code",
   "execution_count": null,
   "id": "a0b604bf",
   "metadata": {},
   "outputs": [],
   "source": [
    "# A continuación se normalizarán los elementos"
   ]
  },
  {
   "cell_type": "code",
   "execution_count": 8,
   "id": "d8c2b82f",
   "metadata": {},
   "outputs": [
    {
     "name": "stdout",
     "output_type": "stream",
     "text": [
      "{'País': 'Bolivia', 'Tipo de contrato': 'Full-Time', 'Salario mensual o retiro BRUTO (en tu moneda local)': '13500', 'Salario mensual o retiro NETO (en tu moneda local)': '12000', 'Pagos en dólares': '', '¿Cuál fue el último valor de dólar que tomaron?': '', '¿Qué tan conforme estás con tu sueldo?': '3', 'Cómo creés que está tu sueldo con respecto al último semestre': '3', 'Recibís algún tipo de bono': 'Menos de un sueldo', 'A qué está atado el bono': 'Performance de la compañía', '¿Tuviste ajustes por inflación durante 2021?': 'No', '¿De qué % fue el ajuste total?': '0', '¿En qué mes fue el último ajuste?': '0', 'Trabajo de': 'SysAdmin / DevOps / SRE', 'Años de experiencia': '6', 'Años en la empresa actual': '14', 'Años en el puesto actual': '6', '¿Gente a cargo?': '2', 'Plataformas': 'Amazon Web Services, Azure, Docker, Linux, OpenStack', 'Lenguajes de programación o tecnologías.': 'Bash/Shell', 'Frameworks, herramientas y librerías': 'Ninguno de los anteriores', 'Bases de datos': 'Amazon RDS/Aurora, MongoDB, MySQL, PostgreSQL', 'QA / Testing': 'Ninguna de las anteriores', 'IDEs': 'Ninguno de los anteriores', 'Cantidad de personas en tu organización': '501-1000', '': '', 'Actividad principal': 'Servicios / Consultoría de Software / Digital', '¿La recomendás como un buen lugar para trabajar?': '7', '¿Cómo calificás las políticas de diversidad e inclusión?': '5', 'Beneficios extra': 'Capacitaciones y/o cursos, Descuentos varios (Mercado Pago, Clarín 365, Club La Nación, etc), Horarios flexibles', '¿Salir o seguir contestando?': 'Quiero responder más preguntas', 'Nivel de estudios alcanzado': 'Terciario', 'Estado': 'Completado', 'Carrera': 'Analista de Sistemas', 'Universidad': 'catec', 'Realizaste cursos de especialización': 'Sí, los pagó un empleador', '¿Contribuís a proyectos open source?': 'No', '¿Programás como hobbie?': 'No', '¿Tenés guardias?': 'Quiero responder más preguntas', 'Cuánto cobrás por guardia': 'No', '¿Porcentaje, bruto o neto?': '0', '¿Sufriste o presenciaste situaciones de violencia laboral?': 'Porcentaje de mi sueldo', '¿Tenés algún tipo de discapacidad?': 'Quiero responder más preguntas', '¿Sentís que esto te dificultó el conseguir trabajo?': 'Jamás', '¿Cómo venís llevando la pandemia?': '', '¿Tenés hijos/as menores de edad?': 'No', '¿Con cuántas personas estás conviviendo?': 'Quiero responder más preguntas', '¿Con quiénes convivís?': '2', '¿Tenés un espacio dedicado para el trabajo?': '1', '¿Tenés que compartir tu equipo de trabajo con alguien?': '1', '¿Qué tipo de cuarentena hiciste / estás haciendo?': 'Hijos/as (tiempo completo)', '¿Cambió tu situación laboral a raíz de la pandemia?': 'No', '¿Qué tanto sentís que te está apoyando tu empresa/organización en esta situación?': 'No', '¿Cómo se vio afectada tu empresa/organización?': '3', '¿Instauraron algún beneficio nuevo?': 'No', 'Tengo': '7', 'Me identifico': 'No la afectó, Se vio beneficiada', 'Ciudad': 'Cochabamba'}\n",
      "---------------------------------------------------------------------------------\n",
      "{'País': 'Bolivia', 'Tipo de contrato': 'Full-Time', 'Salario mensual o retiro BRUTO (en tu moneda local)': '13500', 'Salario mensual o retiro NETO (en tu moneda local)': '12000', 'Pagos en dólares': '', '¿Cuál fue el último valor de dólar que tomaron?': '', '¿Qué tan conforme estás con tu sueldo?': '3', 'Cómo creés que está tu sueldo con respecto al último semestre': '3', 'Recibís algún tipo de bono': 'Menos de un sueldo', 'A qué está atado el bono': 'Performance de la compañía', '¿Tuviste ajustes por inflación durante 2021?': 'No', '¿De qué % fue el ajuste total?': '0', '¿En qué mes fue el último ajuste?': '0', 'Trabajo de': 'SysAdmin / DevOps / SRE', 'Años de experiencia': 6.0, 'Años en la empresa actual': 14, 'Años en el puesto actual': 6, '¿Gente a cargo?': '2', 'Plataformas': 'Amazon Web Services, Azure, Docker, Linux, OpenStack', 'Lenguajes de programación o tecnologías.': 'Bash/Shell', 'Frameworks, herramientas y librerías': 'Ninguno de los anteriores', 'Bases de datos': 'Amazon RDS/Aurora, MongoDB, MySQL, PostgreSQL', 'QA / Testing': 'Ninguna de las anteriores', 'IDEs': 'Ninguno de los anteriores', 'Cantidad de personas en tu organización': '501-1000', '': '', 'Actividad principal': 'Servicios / Consultoría de Software / Digital', '¿La recomendás como un buen lugar para trabajar?': '7', '¿Cómo calificás las políticas de diversidad e inclusión?': '5', 'Beneficios extra': 'Capacitaciones y/o cursos, Descuentos varios (Mercado Pago, Clarín 365, Club La Nación, etc), Horarios flexibles', '¿Salir o seguir contestando?': 'Quiero responder más preguntas', 'Nivel de estudios alcanzado': 'Terciario', 'Estado': 'Completado', 'Carrera': 'analista de sistemas', 'Universidad': 'catec', 'Realizaste cursos de especialización': 'Sí, los pagó un empleador', '¿Contribuís a proyectos open source?': 'No', '¿Programás como hobbie?': 'No', '¿Tenés guardias?': 'Quiero responder más preguntas', 'Cuánto cobrás por guardia': 'No', '¿Porcentaje, bruto o neto?': '0', '¿Sufriste o presenciaste situaciones de violencia laboral?': 'Porcentaje de mi sueldo', '¿Tenés algún tipo de discapacidad?': 'Quiero responder más preguntas', '¿Sentís que esto te dificultó el conseguir trabajo?': 'Jamás', '¿Cómo venís llevando la pandemia?': '', '¿Tenés hijos/as menores de edad?': 'No', '¿Con cuántas personas estás conviviendo?': 'Quiero responder más preguntas', '¿Con quiénes convivís?': '2', '¿Tenés un espacio dedicado para el trabajo?': '1', '¿Tenés que compartir tu equipo de trabajo con alguien?': '1', '¿Qué tipo de cuarentena hiciste / estás haciendo?': 'Hijos/as (tiempo completo)', '¿Cambió tu situación laboral a raíz de la pandemia?': 'No', '¿Qué tanto sentís que te está apoyando tu empresa/organización en esta situación?': 'No', '¿Cómo se vio afectada tu empresa/organización?': '3', '¿Instauraron algún beneficio nuevo?': 'No', 'Tengo': '7', 'Me identifico': 'No la afectó, Se vio beneficiada', 'Ciudad': 'Cochabamba'}\n"
     ]
    }
   ],
   "source": [
    "# Función de normalización:\n",
    "\n",
    "def normalize_record(dict_record):\n",
    "    dict_result = {}\n",
    "    \n",
    "    for i, key in enumerate(dict_record.keys()):\n",
    "        if key == 'Ciudad':\n",
    "            if dict_record[key] == '':\n",
    "                dict_result[key] = 'SIN CIUDAD'\n",
    "            else:\n",
    "                dict_result[key] = dict_record[key]\n",
    "        elif key == '¿Contribuís a proyectos open source?' or key == '¿Programás como hobbie?':\n",
    "            dict_result[key] = normalize_yes_no_empty(dict_record[key])\n",
    "        elif key == 'Años de experiencia':\n",
    "            #print(dict_record[key])\n",
    "            dict_result[key] = normalize_FLOAT(dict_record[key])\n",
    "        elif key == 'Años en la empresa actual' or key == 'Años en el puesto actual':\n",
    "            dict_result[key] = normalize_INT(dict_record[key])\n",
    "        elif key == 'Carrera':\n",
    "            dict_result[key] = normalize_carrera(dict_record[key])\n",
    "        else:\n",
    "            dict_result[key] = dict_record[key]\n",
    "      \n",
    "    return dict_result\n",
    "\n",
    "list_all_normalized = []\n",
    "for i, key in enumerate(list_all):\n",
    "    list_all_normalized.append(normalize_record(list_all[i]))\n",
    "    \n",
    "#print(list_all_normalized[0].keys())\n",
    "register_total = len(list_all_normalized)\n",
    "\n",
    "#Para verificar que se cambió bien el registro    \n",
    "print(list_all[0])\n",
    "print('---------------------------------------------------------------------------------')\n",
    "print(list_all_normalized[0])\n",
    "    "
   ]
  },
  {
   "cell_type": "code",
   "execution_count": null,
   "id": "8b72c71f",
   "metadata": {},
   "outputs": [],
   "source": [
    "#Definiciones de funciones a utilizar"
   ]
  },
  {
   "cell_type": "code",
   "execution_count": 20,
   "id": "a20c6bba",
   "metadata": {},
   "outputs": [
    {
     "name": "stdout",
     "output_type": "stream",
     "text": [
      "lic test\n"
     ]
    },
    {
     "data": {
      "text/plain": [
       "'Licenciatura vhnkyghs'"
      ]
     },
     "execution_count": 20,
     "metadata": {},
     "output_type": "execute_result"
    }
   ],
   "source": [
    "# Función que devuelve el porcentaje\n",
    "\n",
    "def percentage(total,quantity):\n",
    "    return round(quantity * 100  / total, 2)\n",
    "\n",
    "\n",
    "# Función que calcula la paticpación ordenada descendiente de una clave\n",
    "\n",
    "def participation_per_key_DESC(list_to_analyze, key):\n",
    "    dict_result_Participacion = {}\n",
    "\n",
    "    for record in list_to_analyze:\n",
    "        if record[key] != '':\n",
    "            if record[key] in dict_result_Participacion:\n",
    "                # Si la ciudad ya esta en el diccionario resultado incremento el contador\n",
    "                dict_result_Participacion[record[key]] += 1 \n",
    "            else:\n",
    "                # Si la ciudad NO esta en el diccionario resultado inicializo el contador en 1\n",
    "                dict_result_Participacion[record[key]] = 1   \n",
    "\n",
    "    return sorted(dict_result_Participacion.items(), key=lambda x: x[1], reverse=True)\n",
    "\n",
    "# Función que calcula la particpación ordenada descendiente de dos claves\n",
    "\n",
    "def participation_per_keys_Order_by_Keys(list_to_analyze, key1, key2):\n",
    "    dict_result_Participacion = {}\n",
    "\n",
    "    for record in list_to_analyze:\n",
    "        if record[key1] != '':\n",
    "            if (record[key1], record[key2]) in dict_result_Participacion:\n",
    "                # Si la clave ya esta en el diccionario resultado, incremento el contador\n",
    "                dict_result_Participacion[(record[key1], record[key2])] += 1 \n",
    "            else:\n",
    "                # Si la clave NO esta en el diccionario resultado, inicializo el contador en 1\n",
    "                dict_result_Participacion[(record[key1], record[key2])] = 1   \n",
    "\n",
    "    return sorted(dict_result_Participacion.items(), key=lambda x: x[0], reverse=False)\n",
    "\n",
    "# Función para calcular la suma de las cantidades de una lista de tuplas (clave, cantidad)\n",
    "\n",
    "def participation_count(tuple_list):\n",
    "    total_count = 0\n",
    "    for tuple_key_participation in tuple_list:\n",
    "        total_count += tuple_key_participation[1]\n",
    "    return total_count\n",
    "    \n",
    "# Función normalización Si No No contesta\n",
    "\n",
    "def normalize_yes_no_empty(value):\n",
    "    if value == '':\n",
    "        normalized_value = 'No contesta'\n",
    "    else:\n",
    "        normalized_value = value\n",
    "        \n",
    "    return normalize_STR(normalized_value)\n",
    "\n",
    "# Probar funcion normalize_yes_no_empty\n",
    "#normalize_yes_no_empty('')\n",
    "\n",
    "# Función para normalizar STR\n",
    "\n",
    "def normalize_STR(value):\n",
    "    normalized_value = str(value).strip().capitalize()\n",
    "    normalized_value = normalized_value.replace('á', 'a')\n",
    "    normalized_value = normalized_value.replace('é', 'e')\n",
    "    normalized_value = normalized_value.replace('í', 'i')\n",
    "    normalized_value = normalized_value.replace('ó', 'o')\n",
    "    normalized_value = normalized_value.replace('ú', 'u')\n",
    "    normalized_value = normalized_value.replace('ñ', 'n')\n",
    "    return normalized_value\n",
    "\n",
    "# Probar funcion normalize_STR\n",
    "#normalize_STR('agAáéíóúSgiaASs')\n",
    "\n",
    "# Funcion para normalizar calores a Float\n",
    "\n",
    "def normalize_FLOAT(value):\n",
    "    normalized_value = round(float(value),2)\n",
    "    return normalized_value\n",
    "\n",
    "# Probar funcion normalize_FLOAT\n",
    "#normalize_FLOAT('1.1123123')\n",
    "\n",
    "# Función para normalizar valores a INT (de STR a INT) \n",
    "\n",
    "def normalize_INT(value):\n",
    "    normalized_value = int(normalize_FLOAT(value))\n",
    "    return normalized_value\n",
    "\n",
    "# Probar funcion normalize_INT\n",
    "#normalize_INT('19.0')\n",
    "\n",
    "\n",
    "#Función para normalizar la columna Carrera\n",
    "\n",
    "def normalize_carrera(value):\n",
    "    normalized_value = str(value).strip().lower()\n",
    "    if normalized_value in ['.', '-', 'x', 'no', 'cp', 'n/a', 'no estudie', 'ninguna', 'ninguna.', 'ninguna de las anteriores']:\n",
    "        normalized_value = 'Otros'\n",
    "    normalized_value = replace_string_start(normalized_value, 'lic.', 'Licenciatura')\n",
    "    normalized_value = replace_string_start(normalized_value, 'lic', 'Licenciatura')\n",
    "    #normalized_value = normalized_value.replace('tec.', 'Tecnicatura')\n",
    "    #normalized_value = normalized_value.replace('tec', 'Tecnicatura')\n",
    "    #normalized_value = normalized_value.replace('cs.', 'Ciencias')\n",
    "    #normalized_value = normalized_value.replace('cs', 'Ciencias')\n",
    "    #normalized_value = normalized_value.replace('ed.', 'Educacion')\n",
    "    #normalized_value = normalized_value.replace('ed', 'Educacion')\n",
    "    #normalized_value = normalized_value.replace('cm', 'Community manager')\n",
    "    #normalized_value = normalized_value.replace('rrii', 'Relaciones Internacionales')\n",
    "    #normalized_value = normalized_value.replace('rrhh', 'Recursos humanos')\n",
    "    #normalized_value = normalized_value.replace('arq', 'Arquitecto')\n",
    "    #normalized_value = normalized_value.replace('ing.', 'Ingeniero')\n",
    "    #normalized_value = normalized_value.replace('ing', 'Ingeniero')\n",
    "    #normalized_value = normalized_value.replace('mg.', 'Magister')\n",
    "    #normalized_value = normalize_STR(normalized_value)\n",
    "    return normalized_value\n",
    "\n",
    "\n",
    "# Funcion que remplaza un string solo si esta al inicio del mismo\n",
    "def replace_string_start(a_string, replace_this, new_string):\n",
    "    result = a_string\n",
    "    if a_string[:len(replace_this)] == replace_this:\n",
    "        result = new_string + a_string[len(replace_this):]\n",
    "    return result\n",
    "\n",
    "print(replace_string_start('lic test','lic.','Licenciatura'))\n",
    "\n",
    "# Probar funcion normalize_carrera\n",
    "normalize_carrera('lic. VhnkYghs')"
   ]
  },
  {
   "cell_type": "markdown",
   "id": "de5c8bec-41ea-4173-9b42-8bb3e7435d90",
   "metadata": {
    "id": "de5c8bec-41ea-4173-9b42-8bb3e7435d90"
   },
   "source": [
    "2. Printear porcentaje de participación por región, ordenado de mayor a menor. Ej: \n",
    "\n",
    "```\n",
    "- Ciudad Autónoma de Buenos Aires - 59.4%\n",
    "- Formosa - 0.04%\n",
    "```"
   ]
  },
  {
   "cell_type": "code",
   "execution_count": null,
   "id": "ffc60133-8ed3-41ec-a745-904b74136a35",
   "metadata": {
    "id": "ffc60133-8ed3-41ec-a745-904b74136a35"
   },
   "outputs": [],
   "source": [
    "sorted_tuples_Participacion_Region = participation_per_key_DESC(list_all_normalized, 'Ciudad')\n",
    "register_total = participation_count(sorted_tuples_Participacion_Region)\n",
    "\n",
    "for tuple_record in sorted_tuples_Participacion_Region:\n",
    "    print(f' - {tuple_record[0]} - {percentage(register_total,tuple_record[1])}%')\n"
   ]
  },
  {
   "cell_type": "code",
   "execution_count": null,
   "id": "9e6129fd",
   "metadata": {},
   "outputs": [],
   "source": [
    "print(sorted_tuples_Participacion_Region)"
   ]
  },
  {
   "cell_type": "markdown",
   "id": "c54ea6d9-29aa-4788-9abe-fe6fdb5ba797",
   "metadata": {
    "id": "c54ea6d9-29aa-4788-9abe-fe6fdb5ba797"
   },
   "source": [
    "3. Printear porcentaje de participación por tipo de rol, ordenado de mayor a menor. Ej:  \n",
    "`- Developer - 39.11 %`"
   ]
  },
  {
   "cell_type": "code",
   "execution_count": null,
   "id": "907bc7bd-1f7d-48be-9874-76813ebe89c2",
   "metadata": {
    "id": "907bc7bd-1f7d-48be-9874-76813ebe89c2"
   },
   "outputs": [],
   "source": [
    "sorted_tuples_Participacion_Rol = participation_per_key_DESC(list_all_normalized, 'Trabajo de')\n",
    "register_total = participation_count(sorted_tuples_Participacion_Rol)\n",
    "\n",
    "for tuple_record in sorted_tuples_Participacion_Rol:\n",
    "    print(f' - {tuple_record[0]} - {percentage(register_total,tuple_record[1])}%')\n"
   ]
  },
  {
   "cell_type": "markdown",
   "id": "86afc125-4a66-42de-a238-2aeec44a43d1",
   "metadata": {
    "id": "86afc125-4a66-42de-a238-2aeec44a43d1"
   },
   "source": [
    "4. Printear porcentaje de respuesta para las preguntas: \n",
    "* ¿Contribuís a proyectos Open Source?\n",
    "* ¿Programás por hobbie?"
   ]
  },
  {
   "cell_type": "code",
   "execution_count": null,
   "id": "43780b5a-1435-44ad-bc50-d5da3a8660e9",
   "metadata": {
    "id": "43780b5a-1435-44ad-bc50-d5da3a8660e9"
   },
   "outputs": [],
   "source": [
    "sorted_tuples_Participacion_Open_Source = participation_per_key_DESC(list_all_normalized, '¿Contribuís a proyectos open source?')\n",
    "register_total = participation_count(sorted_tuples_Participacion_Open_Source)\n",
    "\n",
    "print('¿Contribuís a proyectos Open Source?')\n",
    "for tuple_record in sorted_tuples_Participacion_Open_Source:\n",
    "    print(f' - {tuple_record[0]} - {percentage(register_total,tuple_record[1])}%')"
   ]
  },
  {
   "cell_type": "code",
   "execution_count": null,
   "id": "a409a702",
   "metadata": {},
   "outputs": [],
   "source": [
    "sorted_tuples_Participacion_Hobbie = participation_per_key_DESC(list_all_normalized, '¿Programás como hobbie?')\n",
    "register_total = participation_count(sorted_tuples_Participacion_Hobbie)\n",
    "\n",
    "print('¿Programás por hobbie?')\n",
    "for tuple_record in sorted_tuples_Participacion_Hobbie:\n",
    "    print(f' - {tuple_record[0]} - {percentage(register_total,tuple_record[1])}%')"
   ]
  },
  {
   "cell_type": "markdown",
   "id": "d34da47a-01d6-4b6f-a8cd-0626de035376",
   "metadata": {
    "id": "d34da47a-01d6-4b6f-a8cd-0626de035376"
   },
   "source": [
    "5. Printear porcentaje por seniority según años de experiencia, el mapeo es:\n",
    "```\n",
    "Junior: de 0 hasta 2 años.\n",
    "Semi-Senior: de 2 años inclusive hasta 5 años.\n",
    "Senior: desde 5 años inclusive.\n",
    "``` "
   ]
  },
  {
   "cell_type": "code",
   "execution_count": null,
   "id": "70bd08b7",
   "metadata": {},
   "outputs": [],
   "source": [
    "dict_Seniority_Years = {'Junior': 0, 'Semi-Senior': 0, 'Senior': 0}\n",
    "\n",
    "for dict_line in list_all_normalized:\n",
    "    years_of_experiencie = dict_line['Años de experiencia']\n",
    "    if years_of_experiencie < 2:\n",
    "        dict_Seniority_Years['Junior'] += 1\n",
    "    elif years_of_experiencie >= 5:\n",
    "        dict_Seniority_Years['Senior'] += 1\n",
    "    else:\n",
    "        dict_Seniority_Years['Semi-Senior'] += 1\n",
    "    \n",
    "#print(dict_Seniority_Years)\n",
    "\n",
    "register_total = dict_Seniority_Years['Junior'] + dict_Seniority_Years['Senior'] + dict_Seniority_Years['Semi-Senior']\n",
    "\n",
    "print('Porcentaje de participación por seniority:')\n",
    "for key in dict_Seniority_Years.keys():\n",
    "    print(f' {key} - {percentage(register_total,dict_Seniority_Years[key])}%')\n",
    "\n"
   ]
  },
  {
   "cell_type": "markdown",
   "id": "7a182336-14cd-4e10-82d5-920779453a87",
   "metadata": {
    "id": "7a182336-14cd-4e10-82d5-920779453a87"
   },
   "source": [
    "6. Printear porcentaje de personas encuestadas por años en la compañía actual y por años en el puesto actual."
   ]
  },
  {
   "cell_type": "code",
   "execution_count": null,
   "id": "e7cb4e75-62ab-4c32-b210-a05f6944eabf",
   "metadata": {
    "id": "e7cb4e75-62ab-4c32-b210-a05f6944eabf"
   },
   "outputs": [],
   "source": [
    "sorted_tuples_Participacion_Anos_Empresa_Actual = participation_per_key_DESC(list_all_normalized, 'Años en la empresa actual')\n",
    "register_total = participation_count(sorted_tuples_Participacion_Anos_Empresa_Actual)\n",
    "\n",
    "print('Porcentaje de personas encuestadas por años en la compañia actual:')\n",
    "for tuple_record in sorted_tuples_Participacion_Anos_Empresa_Actual:\n",
    "    print(f' - {normalize_INT(tuple_record[0])} años - {percentage(register_total,tuple_record[1])}%')"
   ]
  },
  {
   "cell_type": "code",
   "execution_count": null,
   "id": "8b5453d3",
   "metadata": {},
   "outputs": [],
   "source": [
    "#Se detectaron dos valores fuera del rango bla bla bla "
   ]
  },
  {
   "cell_type": "code",
   "execution_count": null,
   "id": "7210beb0",
   "metadata": {},
   "outputs": [],
   "source": [
    "sorted_tuples_Participacion_Anos_Puesto_Actual = participation_per_key_DESC(list_all_normalized, 'Años en el puesto actual')\n",
    "register_total = participation_count(sorted_tuples_Participacion_Anos_Puesto_Actual)\n",
    "\n",
    "print('Porcentaje de personas encuestadas por años en su puesto actual:')\n",
    "for tuple_record in sorted_tuples_Participacion_Anos_Puesto_Actual:\n",
    "    print(f' - {normalize_INT(tuple_record[0])} años - {percentage(register_total,tuple_record[1])}%')"
   ]
  },
  {
   "cell_type": "markdown",
   "id": "0c7df29f-b36c-424b-b5a7-0c37e0ccfe99",
   "metadata": {
    "id": "0c7df29f-b36c-424b-b5a7-0c37e0ccfe99"
   },
   "source": [
    "7. Printear porcentajes de nivel de educación formal y estado, es decir: % educación secundaria, terciaria, universitaria, postgrado, doctorado, postdoctorado, completo, incompleto y en curso para cada uno."
   ]
  },
  {
   "cell_type": "code",
   "execution_count": null,
   "id": "e90f47ab-c8eb-4a92-8a36-2ed3c369deb4",
   "metadata": {
    "id": "e90f47ab-c8eb-4a92-8a36-2ed3c369deb4"
   },
   "outputs": [],
   "source": [
    "sorted_tuples_Participacion_Nivel_Estudios = participation_per_keys_Order_by_Keys(list_all_normalized, 'Nivel de estudios alcanzado', 'Estado')\n",
    "#print(sorted_tuples_Participacion_Nivel_Estudios)\n",
    "register_total_tuples_Participacion_Nivel_Estudios = participation_count(sorted_tuples_Participacion_Nivel_Estudios)\n",
    "   \n",
    "print('Porcentaje de nivel de educación formal y su estado:')\n",
    "for tuple_record in sorted_tuples_Participacion_Nivel_Estudios:\n",
    "    print(f' - {tuple_record[0][0]} {tuple_record[0][1]} - {percentage(register_total_tuples_Participacion_Nivel_Estudios,tuple_record[1])}%')\n",
    "    \n"
   ]
  },
  {
   "cell_type": "markdown",
   "id": "51786345-dfc6-4c3a-98d9-5e57bd1ce48b",
   "metadata": {
    "id": "51786345-dfc6-4c3a-98d9-5e57bd1ce48b"
   },
   "source": [
    "8. Formatear las carreras universitarias:\n",
    "- Nombres capitalizados\n",
    "- Reemplazar vocales con tilde por vocales sin tilde.\n",
    "- Reemplazar `ñ` por `n`\n",
    "- *lic*, *lic.* por Licenciatura\n",
    "- *tec*, *tec.* por Tecnicatura\n",
    "* *cs, *cs.* por Ciencias\n",
    "* *ed, ed.* por Educación\n",
    "* Transformaciones que se consideren necesarias\n",
    "\n",
    "Printear porcentaje según carrera"
   ]
  },
  {
   "cell_type": "code",
   "execution_count": 9,
   "id": "57336a2e-5dec-4c81-a3d5-89edbbe69da8",
   "metadata": {
    "id": "57336a2e-5dec-4c81-a3d5-89edbbe69da8"
   },
   "outputs": [
    {
     "name": "stdout",
     "output_type": "stream",
     "text": [
      "Porcentaje de participación por carrera:\n",
      " - ingeniería en sistemas de información - 19.0%\n",
      " - ingeniería en informática - 11.34%\n",
      " - analista de sistemas - 8.68%\n",
      " - Licenciaturaenciatura en ciencias de la computación - 5.66%\n",
      " - Licenciaturaenciatura en sistemas de información - 5.66%\n",
      " - Licenciaturaenciatura en informática - 4.3%\n",
      " - tecnicatura en programación - 3.39%\n",
      " - ingeniería electrónica - 2.99%\n",
      " - ingeniería en computación - 2.78%\n",
      " - diseño gráfico - 2.48%\n",
      " - tecnicatura superior en programación - 2.36%\n",
      " - Licenciaturaenciatura en administración - 1.72%\n",
      " - tecnicatura en informática - 1.57%\n",
      " - ingeniería industrial - 1.18%\n",
      " - Licenciaturaenciatura en análisis de sistemas - 1.18%\n",
      " - analista programador - 1.12%\n",
      " - ingeniería en software - 1.06%\n",
      " - analista programador universitario - 1.0%\n",
      " - ingeniería en telecomunicaciones - 0.97%\n",
      " - analista de computación - 0.88%\n",
      " - tecnicatura superior en sistemas informáticos - 0.88%\n",
      " - diseño multimedial - 0.85%\n",
      " - tecnicatura en sistemas - 0.82%\n",
      " - tecnicatura superior en análisis de sistemas - 0.7%\n",
      " - analista universitario de sistemas - 0.6%\n",
      " - tecnicatura electrónica - 0.54%\n",
      " - telecomunicaciones - 0.51%\n",
      " - tecnicatura en computación - 0.51%\n",
      " - Otros - 0.36%\n",
      " - diseño de imágen y sonido - 0.33%\n",
      " - sistemas de información - 0.27%\n",
      " - Licenciatura en psicología - 0.21%\n",
      " - diseño industrial - 0.21%\n",
      " - psicología - 0.21%\n",
      " - marketing - 0.18%\n",
      " - Licenciaturaenciatura en sistemas - 0.15%\n",
      " - Licenciaturaenciatura en ciencias de la comunicación - 0.12%\n",
      " - arquitectura - 0.12%\n",
      " - tecnicatura en desarrollo web - 0.12%\n",
      " - Licenciaturaenciatura en psicologia - 0.12%\n",
      " - contador público - 0.12%\n",
      " - letras - 0.12%\n",
      " - sociología - 0.12%\n",
      " - comunicación social - 0.12%\n",
      " - Licenciaturaenciatura en comunicación - 0.12%\n",
      " - Licenciaturaenciatura en psicología - 0.12%\n",
      " - Licenciaturaenciatura en ciencia política - 0.12%\n",
      " - profesorado de inglés - 0.12%\n",
      " - Licenciaturaenciatura en recursos humanos - 0.12%\n",
      " - Licenciaturaenciatura en economia - 0.09%\n",
      " - Licenciaturaenciatura en física - 0.09%\n",
      " - Licenciaturaenciatura en relaciones del trabajo - 0.09%\n",
      " - medicina - 0.09%\n",
      " - ingeniería de sonido - 0.09%\n",
      " - Licenciaturaenciatura en sociología - 0.09%\n",
      " - Licenciaturaenciatura en ciencias de datos - 0.09%\n",
      " - Licenciaturaenciatura en artes multimediales - 0.09%\n",
      " - diseño web - 0.09%\n",
      " - Licenciaturaenciatura en relaciones internacionales - 0.09%\n",
      " - Licenciaturaenciatura en publicidad - 0.09%\n",
      " - Licenciaturaenciatura en gestión de tecnología - 0.09%\n",
      " - psicologia - 0.09%\n",
      " - artes visuales - 0.09%\n",
      " - Licenciaturaenciatura en fisica - 0.09%\n",
      " - Licenciaturaenciatura en comunicación social - 0.09%\n",
      " - economía - 0.06%\n",
      " - ingeniería mecatrónica - 0.06%\n",
      " - Licenciaturaenciatura en matemáticas - 0.06%\n",
      " - ingeniería en tecnologías de la información - 0.06%\n",
      " - ingeniería química - 0.06%\n",
      " - recursos humanos - 0.06%\n",
      " - Licenciaturaenciatura en ciencia de datos - 0.06%\n",
      " - rrii - 0.06%\n",
      " - Licenciaturaenciatura en ciencias matemáticas - 0.06%\n",
      " - tecnicatura en desarrollo de videojuegos - 0.06%\n",
      " - Licenciaturaenciatura en ciencias biológicas - 0.06%\n",
      " - física - 0.06%\n",
      " - profesorado de historia - 0.06%\n",
      " - Licenciaturaenciatura en gestión de la tecnología - 0.06%\n",
      " - comunicacion - 0.06%\n",
      " - rrhh - 0.06%\n",
      " - Licenciaturaenciatura en ciencias de la comunicación social - 0.06%\n",
      " - edición - 0.06%\n",
      " - periodismo - 0.06%\n",
      " - Licenciaturaenciatura en tecnología de la información - 0.06%\n",
      " - actuario - 0.06%\n",
      " - Licenciatura en relaciones del trabajo - 0.06%\n",
      " - tecnicatura en desarrollo de software - 0.06%\n",
      " - relaciones publicas - 0.06%\n",
      " - relaciones internacionales - 0.06%\n",
      " - administración - 0.06%\n",
      " - Licenciaturaenciatura en ciencias fisicas - 0.06%\n",
      " - Licenciaturaenciatura en relaciones públicas e institucionales - 0.06%\n",
      " - tecnicatura superior en desarrollo de software - 0.06%\n",
      " - Licenciatura en rrhh - 0.06%\n",
      " - ingeniería en sistemas - 0.06%\n",
      " - mba - 0.06%\n",
      " - psicólogia - 0.06%\n",
      " - contador publico - 0.06%\n",
      " - bootcamp en programación web full stack - 0.03%\n",
      " - ingenieria ejecucion electronica - 0.03%\n",
      " - ingeniería administrativa - 0.03%\n",
      " - tecnico medio en soporte en informatica - 0.03%\n",
      " - Licenciatura en ciencias fiscales mención aduana y comercio - 0.03%\n",
      " - hacking - 0.03%\n",
      " - Licenciaturaenciatura en bioinformática - 0.03%\n",
      " - ingenieria civil - 0.03%\n",
      " - ingeniería en biónica - 0.03%\n",
      " - matemáticas - 0.03%\n",
      " - ingeniería de sistemas y computación - 0.03%\n",
      " - ingeniería de sistemas - 0.03%\n",
      " - front end development - 0.03%\n",
      " - analista en infraestructura informatica - 0.03%\n",
      " - tecnicatura en diseño web - 0.03%\n",
      " - analista en infraestructura - 0.03%\n",
      " - Licenciatura en redes y comunicación de datos - 0.03%\n",
      " - Licenciatura psicologia - 0.03%\n",
      " - Licenciatura en biotecnologia - 0.03%\n",
      " - electromecánica - 0.03%\n",
      " - geología - 0.03%\n",
      " - analista en redes informáticas - 0.03%\n",
      " - certified tech developer - 0.03%\n",
      " - Licenciatura en comunicación - 0.03%\n",
      " - Licenciatura en sociología - 0.03%\n",
      " - Licenciatura en rrll - 0.03%\n",
      " - Licenciatura en historia - 0.03%\n",
      " - tecnico universitario en desarrollo web - 0.03%\n",
      " - Licenciatura en comercializacion - 0.03%\n",
      " - sociologia - 0.03%\n",
      " - Licenciaturaenciatura en turismo - 0.03%\n",
      " - tecnicatura universitaria en sistemas informáticos - 0.03%\n",
      " - Licenciaturaenciatura en gestión de sistemas - 0.03%\n",
      " - tecnicatura superior en soporte de infraestructuras it - 0.03%\n",
      " - Licenciaturaenciatura en tecnologías de información - 0.03%\n",
      " - técnicatura en infraestructura tecnológica - 0.03%\n",
      " - conservatorio de música - 0.03%\n",
      " - ingeniería mecánica - 0.03%\n",
      " - diseño de interiores - 0.03%\n",
      " - Licenciaturaenciatura en música - 0.03%\n",
      " - ciencias biológicas - 0.03%\n",
      " - Licenciatura admin - 0.03%\n",
      " - Licenciatura en gestión amb + mbt - 0.03%\n",
      " - turismo - 0.03%\n",
      " - técnico de sonido - 0.03%\n",
      " - Licenciaturaenciatura en administración de sistemas y empresas - 0.03%\n",
      " - biologia - 0.03%\n",
      " - maestria en it - 0.03%\n",
      " - ciencias de la comunicacion - 0.03%\n",
      " - ingenieria mecanica - 0.03%\n",
      " - profesor de inglés - 0.03%\n",
      " - contaduría - 0.03%\n",
      " - Licenciaturaenciatura en publicidad y relaciones publicas - 0.03%\n",
      " - Licenciatura relaciones del trabajo, diplomatura en usabilidad y accesibilidad - 0.03%\n",
      " - abogacia - 0.03%\n",
      " - estudio por academias virtuales - 0.03%\n",
      " - soy abogado haciendo un master en rrii - 0.03%\n",
      " - phd in computer science - 0.03%\n",
      " - medico informatico - 0.03%\n",
      " - Licenciaturaenciatura en biotecnología - 0.03%\n",
      " - filología hispánica - 0.03%\n",
      " - gestión de medios y entretenimiento - 0.03%\n",
      " - soporte en infraestructuras - 0.03%\n",
      " - ingenieria química - 0.03%\n",
      " - tenicatura en periodismo general - 0.03%\n",
      " - tecnicatura en infraestructuras de ti - 0.03%\n",
      " - ingenieria - 0.03%\n",
      " - Licenciaturaenciatura en geología - 0.03%\n",
      " - Licenciaturaenciatura en ciencias químicas + maestria en ciencia de datos - 0.03%\n",
      " - traductora pública inglés - 0.03%\n",
      " - Licenciaturaenciatura en gestión de tecnología informática - 0.03%\n",
      " - cs de la comunicación social - 0.03%\n",
      " - antropología - 0.03%\n",
      " - Licenciaturaenciatura en estadistica - 0.03%\n",
      " - traductorado público - 0.03%\n",
      " - tecnicatura superior en administración de sistemas - 0.03%\n",
      " - decorador profesional - 0.03%\n",
      " - Licenciatura en gestion de la tecnologia - 0.03%\n",
      " - ingenieria aeronautica - 0.03%\n",
      " - tecnicatura en diseño de simuladores virtuales - 0.03%\n",
      " - ciencia politica - 0.03%\n",
      " - tsp abandonada....3x - 0.03%\n",
      " - filosofia - 0.03%\n",
      " - ingeniería sonido - 0.03%\n",
      " - diseño arquitectónico - 0.03%\n",
      " - tecnicatura en periodismo - 0.03%\n",
      " - bioingeniería - 0.03%\n",
      " - geologia - 0.03%\n",
      " - diploma en experiencias digitales - 0.03%\n",
      " - veterinaria - 0.03%\n",
      " - técnico electromecánico - 0.03%\n",
      " - Licenciaturaenciado en economía - 0.03%\n",
      " - tecnico en sistemas - 0.03%\n",
      " - maestría en direccion estrategica y tecnologica - 0.03%\n",
      " - Licenciatura en matemáticas - 0.03%\n",
      " - musica - 0.03%\n",
      " - tecnicatura en edicion uba - 0.03%\n",
      " - ingeniería eléctrica - 0.03%\n",
      " - Licenciatura en cs. antropológicas - 0.03%\n",
      " - bachillerato - 0.03%\n",
      " - ingenieria de sonido - 0.03%\n",
      " - Licenciaturaenciatura en ciencias políticas - 0.03%\n",
      " - diseño y administración de sitios web - 0.03%\n",
      " - Licenciatura en dirección escénica - 0.03%\n",
      " - derecho - 0.03%\n",
      " - bootcamp de desarrollo web - 0.03%\n",
      " - master in business and tech - 0.03%\n",
      " - sin título universitario - 0.03%\n",
      " - Licenciatura en estadística - 0.03%\n",
      " - económicas - 0.03%\n",
      " - maestria en recursos humanos - 0.03%\n",
      " - Licenciaturaenciatura en ciencias químicas - 0.03%\n",
      " - Licenciaturaenciatura en comercialización - 0.03%\n",
      " - Licenciaturaenciatura en ciencias biologicas - 0.03%\n",
      " - traductorado e interpretariado de inglés - 0.03%\n",
      " - Licenciaturaenciatura en ciencia politica - 0.03%\n",
      " - Licenciaturaenciatura en matemática - 0.03%\n",
      " - técnico superior en informática aplicada - 0.03%\n",
      " - tengo título de licencia en ciencias matemáticas - 0.03%\n",
      " - Licenciaturaenciatura en gestión de la información - 0.03%\n",
      " - fisica aplicada - 0.03%\n",
      " - trabajo social - 0.03%\n",
      " - productora y directora para radio y tv - 0.03%\n",
      " - Licenciatura en geografía - 0.03%\n",
      " - contador - 0.03%\n",
      " - finanzas - 0.03%\n",
      " - tecnica electrónica - 0.03%\n",
      " - tecnico superior en adm de la producción gráfica - 0.03%\n",
      " - Licenciaturaenciatura en matematica - 0.03%\n",
      " - Licenciaturaenciatura en sociología - master en data science - 0.03%\n",
      " - ciencia de datos - 0.03%\n",
      " - Licenciaturaenciatura en administración y sistemas - 0.03%\n",
      " - técnico universitario en sonido - 0.03%\n",
      " - ciencia política - 0.03%\n",
      " - tecnicatura superior en análisis, desarrollo y programación de aplicaciones - 0.03%\n",
      " - desarrollo web y mobile - 0.03%\n",
      " - diseño gráfico multimedial y analista de sistemas - 0.03%\n",
      " - publicidad - 0.03%\n",
      " - maestria - 0.03%\n",
      " - traduccion - 0.03%\n",
      " - carrera de grado en curso - 0.03%\n",
      " - linguística - 0.03%\n",
      " - Licenciatura en comunicación  multimedia - 0.03%\n",
      " - Licenciaturaenciatura en ciencias matematicas - 0.03%\n",
      " - diseño y administración web - 0.03%\n",
      " - Licenciaturaenciatura en ciencias físicas - 0.03%\n",
      " - administracion bancaria - 0.03%\n",
      " - traductorado y psicología social - 0.03%\n",
      " - Licenciaturaenciatura en bioinformatica - 0.03%\n",
      " - Licenciaturaenciatura y profesorado en artes (orientación música) - 0.03%\n",
      " - Licenciaturaenciado en tecnologías de la información - 0.03%\n",
      " - maestro mayor de obras - 0.03%\n",
      " - Licenciaturaenciado en ciencia política - 0.03%\n",
      " - Licenciatura en artes electrónicas - 0.03%\n",
      " - ingenieria quimica - 0.03%\n",
      " - Licenciatura higiene y seguridad - 0.03%\n",
      " - ingeniería en sonido - 0.03%\n",
      " - video juegos - 0.03%\n",
      " - ingenieria mecatronica - 0.03%\n",
      " - ing electrica - 0.03%\n",
      " - tecnicatura en software libre - 0.03%\n",
      " - Licenciaturaenciatura en quimica - 0.03%\n",
      " - profesor en disciplinas industriales - 0.03%\n",
      " - ingeniería biomédica - 0.03%\n",
      " - ciencias de la comunicación social - 0.03%\n",
      " - literatura - 0.03%\n",
      " - profesorado en enseñanza media y superior en matemáticas - 0.03%\n",
      " - profesorado de educación física - 0.03%\n",
      " - Licenciaturaenciatura en comunicación audiovisual - 0.03%\n",
      " - Licenciaturaenciatura en biotecnologia - 0.03%\n",
      " - soy bachiller en humanidades y cs sociales - 0.03%\n",
      " - Licenciaturaenciatura en gestión de sistemas de automatización y robótica - 0.03%\n",
      " - administracion - 0.03%\n",
      " - Licenciaturaenciatura en ciencias sociales - 0.03%\n",
      " - programador y diseñador de simuladores virtuales - 0.03%\n",
      " - arte audiovisual - 0.03%\n",
      " - economia. actualmente analista en sistemas - 0.03%\n",
      " - Licenciaturaenciatura en estadística - 0.03%\n",
      " - Licenciaturaenciatura en marketing - 0.03%\n",
      " - Licenciaturaenciatura en matemática aplicada - 0.03%\n",
      " - Licenciaturaenciado en periodismo - 0.03%\n",
      " - marketing y administración agroindustrial - 0.03%\n",
      " - Licenciaturaenciatura en astronomía - 0.03%\n",
      " - tecnicatura en web - 0.03%\n",
      " - técnico en diseño y programación de videojuegos - 0.03%\n",
      " - mg. comunicacion social - 0.03%\n",
      " - Licenciaturaenciatura en gestión de recursos humanos - 0.03%\n",
      " - ingenieria electronica y telecomunicaciones 4to, ingenieria en software 5to - 0.03%\n",
      " - profesorado de teatro - 0.03%\n",
      " - ingenieria en redes y comunicaciones - 0.03%\n",
      " - mg. comunicacion estrategica - 0.03%\n",
      " - tecnicatura superior en inteligencia artificial y ciencia de datos - 0.03%\n",
      " - traducción de inglés - 0.03%\n",
      " - técnico en recursos humanos - 0.03%\n",
      " - traductora de inglés - 0.03%\n",
      " - tecnico en diseño y programación de videojuegos - 0.03%\n",
      " - Licenciaturaenciatura en tecnología educativa - 0.03%\n",
      " - cisco - 0.03%\n",
      " - autodidacta - 0.03%\n",
      " - bioingenieria - 0.03%\n",
      " - ing civil - 0.03%\n",
      " - tecnicatura universitaria en mecatronica - 0.03%\n",
      " - Licenciaturaenciatura en organización industrial - 0.03%\n",
      " - Licenciaturaenciatura en periodismo - 0.03%\n",
      " - Licenciaturaenciatura en finanzas - 0.03%\n",
      " - comunicación audiovisual - 0.03%\n",
      " - Licenciaturaenciado en relaciones del trabajo - 0.03%\n",
      " - arq - 0.03%\n",
      " - corrector de textos - 0.03%\n",
      " - profesorado de ingles - 0.03%\n",
      " - tecnicatura en soporte de infraestructura - 0.03%\n",
      " - Licenciatura en relaciones públicas - 0.03%\n",
      " - abogado - 0.03%\n",
      " - biotecnología - 0.03%\n",
      " - Licenciaturaenciatura en dirección de negocios - 0.03%\n",
      " - Licenciaturaenciaturas en ciencias matemáticas - 0.03%\n",
      " - economia - 0.03%\n",
      " - ceh, cissp, csfpc, etc. - 0.03%\n",
      " - relaciones laborales - 0.03%\n",
      " - técnico en comunicación social - 0.03%\n",
      " - cloud administrator/ artes audiovisuales - 0.03%\n",
      " - Licenciaturaenciatura en higiene y seguridad en el trabajo - 0.03%\n",
      " - diseño y programación de simuladores virtuales - 0.03%\n",
      " - logistica - 0.03%\n",
      " - tecnicatura en desarrollo de paginas web - 0.03%\n",
      " - comunicacion social, si comunicación social - 0.03%\n",
      " - tecnicatura superior en automatización y róbotica - 0.03%\n",
      " - comercio exterior - 0.03%\n",
      " - diseño de videojuegos - 0.03%\n",
      " - Licenciaturaenciatura en comercio internacional - 0.03%\n",
      " - Licenciatura en tecnologias educativas - 0.03%\n",
      " - ingenieria biomedica - 0.03%\n",
      " - diplomatura en ciencia de datos - 0.03%\n",
      " - tecnicatura superior en base de datos - 0.03%\n",
      " - tecnico superior en soporte de infraestructura - 0.03%\n",
      " - tecnicatura superior en redes informáticas - 0.03%\n",
      " - tecnicatura electromecánica - 0.03%\n",
      " - ingenieria en sistemas - 0.03%\n",
      " - abogacía - 0.03%\n",
      " - bioquimica - 0.03%\n",
      " - Licenciaturaenciatura en artes visuales - 0.03%\n",
      " - analisis de sistemas, licenciatura en psicología - 0.03%\n",
      " - tecnicatura niversitaria en desarrollo de aplicaciones informáticas - 0.03%\n",
      " - magister en gestion de la seguridad de la informacion - 0.03%\n",
      " - relaciones del trabajo - 0.03%\n",
      " - traductor de ingles - 0.03%\n",
      " - grabacion y produccion musical - 0.03%\n",
      " - ingenieria de sistemas - 0.03%\n",
      " - Licenciaturaenciatura en geología, doctorado en ciencias naturales - 0.03%\n",
      " - ingeniero civil - 0.03%\n",
      " - tecnicatura en administracion de sistemas y software libre - 0.03%\n",
      " - imagen y sonido - 0.03%\n",
      " - Licenciaturaenciatura en economía - 0.03%\n",
      " - técnico universitario en desarrollo de software - 0.03%\n",
      " - Licenciatura en ciencia política - 0.03%\n",
      " - escuela de educación técnica - 0.03%\n",
      " - tecnicatura en marketing y publicidad digital - 0.03%\n",
      " - Licenciatura artes audiovisuales - 0.03%\n",
      " - ingeniería civil - 0.03%\n",
      " - tecnicatura superior en mecatrónica - 0.03%\n",
      " - histotecnologia - 0.03%\n",
      " - tecnicatura universitaria en tecnologías de la información - 0.03%\n",
      " - técnico superior en desarrollo de software - 0.03%\n",
      " - tecnico superior en desarrollo de software - 0.03%\n",
      " - Licenciaturaenciado en turismo - 0.03%\n",
      " - diseñador industrial - 0.03%\n",
      " - tecnicatura superior en tecnologías de la información - 0.03%\n",
      " - marketing y publicidad digital - 0.03%\n",
      " - Licenciaturaenciatura en historia - 0.03%\n",
      " - técnico constructor mmo - 0.03%\n",
      " - cm - 0.03%\n",
      " - ingeneria en pesca - 0.03%\n",
      " - ingenieria en computacion - 0.03%\n"
     ]
    }
   ],
   "source": [
    "sorted_tuples_Participacion_Carrera = participation_per_key_DESC(list_all_normalized, 'Carrera')\n",
    "register_total = participation_count(sorted_tuples_Participacion_Carrera)\n",
    "\n",
    "print('Porcentaje de participación por carrera:')\n",
    "for tuple_record in sorted_tuples_Participacion_Carrera:\n",
    "    print(f' - {(tuple_record[0])} - {percentage(register_total,tuple_record[1])}%')"
   ]
  },
  {
   "cell_type": "markdown",
   "id": "ea803c6d-6a61-4d98-be72-116ae2855e70",
   "metadata": {
    "id": "ea803c6d-6a61-4d98-be72-116ae2855e70"
   },
   "source": [
    "9. Printear porcentaje de respuesta a las preguntas:\n",
    "- ¿Realizaste cursos de especialización?\n",
    "- Si realizaste, ¿Quién pagó por los cursos de especialización?"
   ]
  },
  {
   "cell_type": "code",
   "execution_count": null,
   "id": "99f82b25-fa8a-42b4-8349-19035ff67fce",
   "metadata": {
    "id": "99f82b25-fa8a-42b4-8349-19035ff67fce"
   },
   "outputs": [],
   "source": []
  },
  {
   "cell_type": "markdown",
   "id": "cb7a4544-062a-4429-abea-f0b7293b48f7",
   "metadata": {
    "id": "cb7a4544-062a-4429-abea-f0b7293b48f7"
   },
   "source": [
    "10. Printear porcentaje por identidad de género y personas con discapacidad"
   ]
  },
  {
   "cell_type": "code",
   "execution_count": null,
   "id": "a6e907fc-ecb6-4255-8eba-59b9199f14a6",
   "metadata": {
    "id": "a6e907fc-ecb6-4255-8eba-59b9199f14a6"
   },
   "outputs": [],
   "source": []
  },
  {
   "cell_type": "markdown",
   "id": "acde6b71-2537-421f-8398-2ca8afd34398",
   "metadata": {
    "id": "acde6b71-2537-421f-8398-2ca8afd34398"
   },
   "source": [
    "11. Salarios: calcular la mediana salarial para cada una de las siguientes categorías:\n",
    "- Salario según región\n",
    "- Salario por rol\n",
    "- Salario por experiencia\n",
    "- Salario por nivel de formación\n",
    "- Salario por carrera\n",
    "- Salario por tecnología\n",
    "- Salario por lenguaje de programación\n",
    "- Salario por género"
   ]
  },
  {
   "cell_type": "code",
   "execution_count": null,
   "id": "f0bec90b-39ac-4c13-b31b-b12715ffafd0",
   "metadata": {
    "id": "f0bec90b-39ac-4c13-b31b-b12715ffafd0"
   },
   "outputs": [],
   "source": []
  },
  {
   "cell_type": "markdown",
   "id": "bfd2e756-d810-4738-ab4a-4020aeb9bf4a",
   "metadata": {
    "id": "bfd2e756-d810-4738-ab4a-4020aeb9bf4a"
   },
   "source": [
    "12. Printear porcentaje y salario según tipos de contrato ."
   ]
  },
  {
   "cell_type": "code",
   "execution_count": null,
   "id": "50a8f438-b75d-474d-9117-e03f24bc77bf",
   "metadata": {
    "id": "50a8f438-b75d-474d-9117-e03f24bc77bf"
   },
   "outputs": [],
   "source": []
  },
  {
   "cell_type": "markdown",
   "id": "b867ef71-a19c-4a99-a7ae-01798459d5f3",
   "metadata": {
    "id": "b867ef71-a19c-4a99-a7ae-01798459d5f3"
   },
   "source": [
    "13. En base a los resultados obtenidos confeccionar conclusiones respecto a:\n",
    "\n",
    "- Rol vs sueldos\n",
    "- Nivel de educación alcanzada vs sueldos\n",
    "- Género vs sueldos\n",
    "- Tecnologías populares"
   ]
  },
  {
   "cell_type": "code",
   "execution_count": null,
   "id": "c12ba74a-1406-4bf3-8e7e-109070668352",
   "metadata": {
    "id": "c12ba74a-1406-4bf3-8e7e-109070668352"
   },
   "outputs": [],
   "source": []
  },
  {
   "cell_type": "markdown",
   "id": "da479f0a-f254-4189-94d3-ac1444245fee",
   "metadata": {
    "id": "da479f0a-f254-4189-94d3-ac1444245fee"
   },
   "source": [
    "14. Generar gráficos de barra para mostrar los resultados mencionados anteriormente usando strings, ej:\n",
    "\n",
    "```\n",
    "developer | -----------------------------------------------\n",
    "sysadmin  | ---------------------------\n",
    "QA        | ------------------\n",
    "          | ..................5%.......10%...............40%\n",
    "```"
   ]
  },
  {
   "cell_type": "code",
   "execution_count": null,
   "id": "74b1f7bc-6f02-4ec5-b7c4-4d8de3efe28f",
   "metadata": {
    "id": "74b1f7bc-6f02-4ec5-b7c4-4d8de3efe28f"
   },
   "outputs": [],
   "source": []
  }
 ],
 "metadata": {
  "colab": {
   "name": "8.analisis-de-sueldos-con-python.ipynb",
   "provenance": []
  },
  "kernelspec": {
   "display_name": "Python 3 (ipykernel)",
   "language": "python",
   "name": "python3"
  },
  "language_info": {
   "codemirror_mode": {
    "name": "ipython",
    "version": 3
   },
   "file_extension": ".py",
   "mimetype": "text/x-python",
   "name": "python",
   "nbconvert_exporter": "python",
   "pygments_lexer": "ipython3",
   "version": "3.9.7"
  }
 },
 "nbformat": 4,
 "nbformat_minor": 5
}
